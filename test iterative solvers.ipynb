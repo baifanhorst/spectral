{
 "cells": [
  {
   "cell_type": "code",
   "execution_count": 248,
   "id": "1d83053d",
   "metadata": {},
   "outputs": [],
   "source": [
    "import numpy as np\n",
    "\n",
    "# Reloading the module\n",
    "import importlib\n",
    "\n",
    "import IterSolv\n",
    "importlib.reload(IterSolv)\n",
    "\n",
    "\n",
    "from scipy.sparse import csc_matrix\n",
    "from scipy.sparse.linalg import cg\n",
    "from scipy.sparse.linalg import bicgstab"
   ]
  },
  {
   "cell_type": "code",
   "execution_count": 2,
   "id": "6771b98a",
   "metadata": {},
   "outputs": [
    {
     "name": "stdout",
     "output_type": "stream",
     "text": [
      "Solution:\n",
      " [3. 2. 1.]\n",
      "Maximum absolute error:\n",
      " 2.442821611658985e-09\n"
     ]
    }
   ],
   "source": [
    "# Testing the Jacobi solver\n",
    "# Example 8.1 in Qingyang Li's book\n",
    "A = np.array([[8,-3,2],[4,11,-1], [6,3,12]])\n",
    "b = np.array([20,33,36])\n",
    "x, err = IterSolv.Jacobi(A, b, maxiter=30, tol=1e-8)\n",
    "print(\"Solution:\\n\", x)\n",
    "print(\"Maximum absolute error:\\n\", err)"
   ]
  },
  {
   "cell_type": "code",
   "execution_count": 3,
   "id": "c1dc8e47",
   "metadata": {
    "scrolled": true
   },
   "outputs": [
    {
     "name": "stdout",
     "output_type": "stream",
     "text": [
      "Solution:\n",
      " [3. 2. 1.]\n",
      "Maximum absolute error:\n",
      " 6.403133134824657e-09\n"
     ]
    }
   ],
   "source": [
    "# Testing the Gauss Seidel solver\n",
    "# Example 8.1 in Qingyang Li's book\n",
    "A = np.array([[8,-3,2],[4,11,-1], [6,3,12]])\n",
    "b = np.array([20,33,36])\n",
    "x, err = IterSolv.GaussSeidel(A, b, maxiter=20, tol=1e-8)\n",
    "print(\"Solution:\\n\", x)\n",
    "print(\"Maximum absolute error:\\n\", err)"
   ]
  },
  {
   "cell_type": "code",
   "execution_count": 4,
   "id": "bed7db77",
   "metadata": {
    "scrolled": true
   },
   "outputs": [
    {
     "name": "stdout",
     "output_type": "stream",
     "text": [
      "Jacobi:\n",
      "Solution:\n",
      " [0.33333333 1.33333334 0.66666667]\n",
      "Maximum absolute error:\n",
      " 8.797295780738068e-09\n",
      "Gauss-Seidel:\n",
      "Solution:\n",
      " [-0.33333333  0.66666667 -0.        ]\n",
      "Maximum absolute error:\n",
      " 1.333333333333333\n"
     ]
    }
   ],
   "source": [
    "# Comparison between Jacobi and Gauss-Seidel\n",
    "# An example where Jacobi works but Gaus-Seidel doesn't.\n",
    "A = np.array([[1,0,1],[-1,1,0], [1,2,-3]])\n",
    "b = np.array([1,1,1])\n",
    "x_J, err_J = IterSolv.Jacobi(A, b, maxiter=10000, tol=1e-8)\n",
    "x_GS, err_GS = IterSolv.GaussSeidel(A, b, maxiter=10000, tol=1e-8)\n",
    "print(\"Jacobi:\")\n",
    "print(\"Solution:\\n\", x_J)\n",
    "print(\"Maximum absolute error:\\n\", err_J)\n",
    "print(\"Gauss-Seidel:\")\n",
    "print(\"Solution:\\n\", x_GS)\n",
    "print(\"Maximum absolute error:\\n\", err_GS)"
   ]
  },
  {
   "cell_type": "code",
   "execution_count": 5,
   "id": "c8fc064b",
   "metadata": {
    "scrolled": true
   },
   "outputs": [
    {
     "name": "stdout",
     "output_type": "stream",
     "text": [
      "Jacobi:\n",
      "Solution:\n",
      " [0. 0. 0.]\n",
      "Maximum absolute error:\n",
      " 1.0\n",
      "Gauss-Seidel:\n",
      "Solution:\n",
      " [0.5 0.5 0.5]\n",
      "Maximum absolute error:\n",
      " 5.537250657994264e-09\n"
     ]
    }
   ],
   "source": [
    "# Comparison between Jacobi and Gauss-Seidel\n",
    "# An example where Gaus-Seidel works but Jacobi doesn't.\n",
    "A = np.array([[1, 0.5, 0.5], [0.5, 1, 0.5], [0.5, 0.5, 1]])\n",
    "b = np.array([1,1,1])\n",
    "x_J, err_J = IterSolv.Jacobi(A, b, maxiter=20, tol=1e-8)\n",
    "x_GS, err_GS = IterSolv.GaussSeidel(A, b, maxiter=20, tol=1e-8)\n",
    "print(\"Jacobi:\")\n",
    "print(\"Solution:\\n\", x_J)\n",
    "print(\"Maximum absolute error:\\n\", err_J)\n",
    "print(\"Gauss-Seidel:\")\n",
    "print(\"Solution:\\n\", x_GS)\n",
    "print(\"Maximum absolute error:\\n\", err_GS)"
   ]
  },
  {
   "cell_type": "code",
   "execution_count": 6,
   "id": "a00095a0",
   "metadata": {
    "scrolled": true
   },
   "outputs": [
    {
     "name": "stdout",
     "output_type": "stream",
     "text": [
      "SOR:\n",
      "Solution:\n",
      " [0.33333333 1.33333333 0.66666667]\n",
      "Maximum absolute error:\n",
      " 1.9473840318084967e-09\n",
      "Gauss-Seidel:\n",
      "Solution:\n",
      " [-0.33333333  0.66666667 -0.        ]\n",
      "Maximum absolute error:\n",
      " 1.333333333333333\n"
     ]
    }
   ],
   "source": [
    "# Comparison between SOR and Gauss-Seidel\n",
    "# An example where Jacobi works but Gaus-Seidel doesn't.\n",
    "# In this case, underrelaxation works, but overrelaxation doesn't\n",
    "A = np.array([[1,0,1],[-1,1,0], [1,2,-3]])\n",
    "b = np.array([1,1,1])\n",
    "x_SOR, err_SOR = IterSolv.SOR(A, b, w=0.85, maxiter=100, tol=1e-8)\n",
    "x_GS, err_GS = IterSolv.GaussSeidel(A, b, maxiter=100, tol=1e-8)\n",
    "print(\"SOR:\")\n",
    "print(\"Solution:\\n\", x_SOR)\n",
    "print(\"Maximum absolute error:\\n\", err_SOR)\n",
    "print(\"Gauss-Seidel:\")\n",
    "print(\"Solution:\\n\", x_GS)\n",
    "print(\"Maximum absolute error:\\n\", err_GS)"
   ]
  },
  {
   "cell_type": "code",
   "execution_count": 7,
   "id": "79fcc8fb",
   "metadata": {
    "scrolled": true
   },
   "outputs": [
    {
     "name": "stdout",
     "output_type": "stream",
     "text": [
      "Solution:\n",
      " [-7.52435208 -0.97368909 -5.62367059 -1.30665435  0.31592265  5.80355835\n",
      "  1.80776131 -0.80671437 -1.53978023 10.40517458]\n",
      "Numpy Solution:\n",
      " [-52.46812754  -9.57118795 -13.28824604 -45.89299872  14.61070991\n",
      "  37.2306435   36.36879161 -39.40474245   1.89764648  74.8107165 ]\n",
      "CG Maximum absolute error:\n",
      " 0.695888800445899\n",
      "np Maximum absolute error:\n",
      " 5.895284260759581e-14\n"
     ]
    }
   ],
   "source": [
    "# Testing the conjugate gradient method\n",
    "N = 10\n",
    "A = np.random.rand(N, N)\n",
    "A = np.dot(A, A.T)\n",
    "#A = A + A.T\n",
    "b = np.random.rand(N)\n",
    "\n",
    "x, err = IterSolv.CG(A, b, maxiter=N, tol=1e-8)\n",
    "print(\"Solution:\\n\", x)\n",
    "\n",
    "x_np = np.linalg.solve(A, b)\n",
    "print(\"Numpy Solution:\\n\", x_np)\n",
    "\n",
    "\n",
    "print(\"CG Maximum absolute error:\\n\", err)\n",
    "print(\"np Maximum absolute error:\\n\", np.linalg.norm(b - np.dot(A,x_np), ord=np.inf))\n"
   ]
  },
  {
   "cell_type": "code",
   "execution_count": 8,
   "id": "4f7506ad",
   "metadata": {},
   "outputs": [
    {
     "name": "stdout",
     "output_type": "stream",
     "text": [
      "Solution:\n",
      " [ 0.19508744 -1.57233932 -0.31186801  0.51115242 -0.40705112 -0.26788039]\n",
      "Numpy Solution:\n",
      " [-0.19175092 -1.19623939 -0.70165554  0.56660481 -0.33003274 -0.11953811]\n"
     ]
    }
   ],
   "source": [
    "# Testing the Jacobi preconditioned conjugate gradient method\n",
    "N = 100\n",
    "A = np.random.rand(N, N)\n",
    "#A = np.dot(A, A.T)\n",
    "A = A + A.T\n",
    "b = np.random.rand(N)\n",
    "x, err = IterSolv.CG_JacobiPrecond(A, b, maxiter=2*N, tol=1e-8)\n",
    "print(\"Solution:\\n\", x[0:6])\n",
    "\n",
    "x_np = np.linalg.solve(A, b)\n",
    "print(\"Numpy Solution:\\n\", x_np[0:6])\n",
    "\n",
    "\n",
    "#print(\"CG Maximum absolute error:\\n\", err)\n",
    "#print(\"np Maximum absolute error:\\n\", np.linalg.norm(b - np.dot(A,x_np), ord=np.inf))\n"
   ]
  },
  {
   "cell_type": "code",
   "execution_count": 9,
   "id": "e9e139a1",
   "metadata": {
    "scrolled": true
   },
   "outputs": [
    {
     "name": "stdout",
     "output_type": "stream",
     "text": [
      "Success if 0: 0\n",
      "Solution:\n",
      " [-0.34601188 -0.00641165  1.51442551  1.17245205 -0.75297386  0.62503911]\n"
     ]
    }
   ],
   "source": [
    "# Scipy conjugate gradient method\n",
    "N = 1000\n",
    "A = np.random.rand(N, N)\n",
    "#A = np.dot(A, A.T)\n",
    "A = A + A.T\n",
    "A_sparse = csc_matrix(A)\n",
    "b = np.random.rand(N)\n",
    "\n",
    "x, exit_code = cg(A, b, atol=1e-5)\n",
    "print(\"Success if 0:\", exit_code)\n",
    "print(\"Solution:\\n\", x[0:6])\n",
    "\n",
    "#x_np = np.linalg.solve(A, b)\n",
    "#print(\"Numpy Solution:\\n\", x_np[0:6])"
   ]
  },
  {
   "cell_type": "code",
   "execution_count": 309,
   "id": "81e34368",
   "metadata": {},
   "outputs": [
    {
     "name": "stdout",
     "output_type": "stream",
     "text": [
      "Solution:\n",
      " [ 1.60019128  0.20875494  0.38059144  0.67497013 -0.26124581]\n",
      "exit code: -10\n",
      "Numpy Solution:\n",
      " [-0.25138877  0.84288645 -0.15721588  0.30648485  0.61765559]\n"
     ]
    }
   ],
   "source": [
    "# Testing the BICGSTAB\n",
    "N = 30\n",
    "A = np.random.rand(N, N)\n",
    "A_sparse = csc_matrix(A)\n",
    "b = np.random.rand(N)\n",
    "x, exit_code = bicgstab(A_sparse, b, atol=1e-8)\n",
    "print(\"Solution:\\n\", x[0:5])\n",
    "print(\"exit code:\", exit_code)\n",
    "\n",
    "x_np = np.linalg.solve(A, b)\n",
    "print(\"Numpy Solution:\\n\", x_np[0:5])"
   ]
  }
 ],
 "metadata": {
  "kernelspec": {
   "display_name": "Python 3 (ipykernel)",
   "language": "python",
   "name": "python3"
  },
  "language_info": {
   "codemirror_mode": {
    "name": "ipython",
    "version": 3
   },
   "file_extension": ".py",
   "mimetype": "text/x-python",
   "name": "python",
   "nbconvert_exporter": "python",
   "pygments_lexer": "ipython3",
   "version": "3.9.13"
  }
 },
 "nbformat": 4,
 "nbformat_minor": 5
}
