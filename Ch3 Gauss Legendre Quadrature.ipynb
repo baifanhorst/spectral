{
 "cells": [
  {
   "cell_type": "code",
   "execution_count": 3,
   "id": "723039dc",
   "metadata": {},
   "outputs": [],
   "source": [
    "import numpy as np\n",
    "from scipy.special import roots_legendre"
   ]
  },
  {
   "cell_type": "code",
   "execution_count": 4,
   "id": "7fad44a9",
   "metadata": {},
   "outputs": [],
   "source": [
    "# scipy.special.roots_legendre gives the zeros and weights \n",
    "# for the corresponding Gauss Legendre quadrature\n",
    "roots, weights = roots_legendre(9)"
   ]
  },
  {
   "cell_type": "code",
   "execution_count": 8,
   "id": "b8d17184",
   "metadata": {},
   "outputs": [
    {
     "name": "stdout",
     "output_type": "stream",
     "text": [
      "0.0\n"
     ]
    }
   ],
   "source": [
    "# Testing the quadrature\n",
    "f = np.sin(roots)\n",
    "I_Gauss = np.sum(f * weights)\n",
    "print(I_Gauss)"
   ]
  },
  {
   "cell_type": "code",
   "execution_count": 11,
   "id": "c3e99512",
   "metadata": {},
   "outputs": [
    {
     "name": "stdout",
     "output_type": "stream",
     "text": [
      "1.6829419696157926\n",
      "Theoretical: 1.682941969615793\n"
     ]
    }
   ],
   "source": [
    "# Testing the quadrature\n",
    "f = np.cos(roots)\n",
    "I_Gauss = np.sum(f * weights)\n",
    "print(I_Gauss)\n",
    "print(\"Theoretical:\", 2 * np.sin(1))"
   ]
  }
 ],
 "metadata": {
  "kernelspec": {
   "display_name": "Python 3 (ipykernel)",
   "language": "python",
   "name": "python3"
  },
  "language_info": {
   "codemirror_mode": {
    "name": "ipython",
    "version": 3
   },
   "file_extension": ".py",
   "mimetype": "text/x-python",
   "name": "python",
   "nbconvert_exporter": "python",
   "pygments_lexer": "ipython3",
   "version": "3.9.13"
  }
 },
 "nbformat": 4,
 "nbformat_minor": 5
}
