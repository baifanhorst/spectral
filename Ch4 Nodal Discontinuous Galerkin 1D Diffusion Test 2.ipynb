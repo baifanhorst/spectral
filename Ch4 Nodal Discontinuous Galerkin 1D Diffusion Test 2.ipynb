{
 "cells": [
  {
   "cell_type": "code",
   "execution_count": 6,
   "id": "c244e50e",
   "metadata": {},
   "outputs": [],
   "source": [
    "import numpy as np\n",
    "import matplotlib.pyplot as plt\n",
    "from scipy.integrate import solve_ivp\n",
    "\n",
    "# Reloading the module\n",
    "import importlib\n",
    "\n",
    "import OrthogonalPolynomials\n",
    "importlib.reload(OrthogonalPolynomials)\n",
    "from OrthogonalPolynomials import *\n",
    "\n",
    "import GeneralFunctionality\n",
    "importlib.reload(GeneralFunctionality)\n",
    "from GeneralFunctionality import *\n",
    "\n",
    "from scipy.special import eval_legendre, roots_legendre\n",
    "from scipy import integrate"
   ]
  },
  {
   "cell_type": "code",
   "execution_count": 7,
   "id": "ad40ebe6",
   "metadata": {},
   "outputs": [],
   "source": [
    "# Finding the Legendre Gauss points\n",
    "N = 40\n",
    "# Node index: 0,1,...,N -> N+1 nodes -> zeros of L_{N+1}\n",
    "x_Le, w_Le = roots_legendre(N+1)\n",
    "# Barycentric weights\n",
    "w_bary = BarycentricWeights(x_Le)\n",
    "# Differentiation matrix\n",
    "D = PolynomialDiffMatrix(x_Le, w_bary)\n",
    "# 2nd-order differentiation matrix\n",
    "D2 = PolynomialDiffMatrix_HighOrder(2, x_Le, w_bary, D)"
   ]
  },
  {
   "cell_type": "code",
   "execution_count": 8,
   "id": "0c712ce5",
   "metadata": {},
   "outputs": [],
   "source": [
    "def MatrixG(N, D, w): \n",
    "    # Computing the matrix G on the RHS of the ODE system\n",
    "    # D2: 2nd-order differentiation matrix\n",
    "    # w: Legendre Gauss weights\n",
    "    # The subroutine can be improved by numpy vectorization\n",
    "    \n",
    "    G = np.zeros((N+1, N+1))\n",
    "    for j in range(N+1):\n",
    "        for m in range(N+1):\n",
    "            for k in range(N+1):\n",
    "                G[j,m] += w[k] * D[k,m] * D[k,j]\n",
    "            G[j,m] /= w[j]\n",
    "            \n",
    "    return G\n",
    "\n",
    "G = MatrixG(N, D, w_Le)"
   ]
  },
  {
   "cell_type": "code",
   "execution_count": 9,
   "id": "7ed0cbda",
   "metadata": {},
   "outputs": [],
   "source": [
    "l_left, l_right = LagrangePolynomialsBoundaryValues(N, x_Le, w_bary)"
   ]
  },
  {
   "cell_type": "code",
   "execution_count": 10,
   "id": "11a3a8b2",
   "metadata": {},
   "outputs": [],
   "source": [
    "def RHS(t, u, N, x_Le, w_Le, w_bary, D, G, l_left, l_right):\n",
    "    # Evaluating the RHS of the ODE system\n",
    "    \n",
    "    # Derivatives of the interpolating polynomial at the boundaries\n",
    "    ux_left = LagrangeInterpolationDerivativeBary(-1.0, x_Le, u, w_bary, D)\n",
    "    ux_right = LagrangeInterpolationDerivativeBary(1.0, x_Le, u, w_bary, D)\n",
    "    \n",
    "    \n",
    "    rhs = (ux_right*l_right - ux_left*l_left) / w_Le - np.dot(G, u)\n",
    "    \n",
    "    return rhs"
   ]
  },
  {
   "cell_type": "code",
   "execution_count": 11,
   "id": "32e491dd",
   "metadata": {
    "scrolled": false
   },
   "outputs": [
    {
     "data": {
      "text/plain": [
       "Text(0.5, 1.0, '$u_t=u_{xx}$')"
      ]
     },
     "execution_count": 11,
     "metadata": {},
     "output_type": "execute_result"
    },
    {
     "data": {
      "image/png": "[encoded data removed]",
      "text/plain": [
       "<Figure size 640x480 with 1 Axes>"
      ]
     },
     "metadata": {},
     "output_type": "display_data"
    }
   ],
   "source": [
    "# Scipy calculation\n",
    "\n",
    "# Initial condition\n",
    "u0 = 1 - x_Le**2\n",
    "\n",
    "t_span = [0, 1]\n",
    "t_eval=[0, 0.5, 1]\n",
    "sol = solve_ivp(RHS, \n",
    "                t_span=t_span, \n",
    "                y0=u0, \n",
    "                method='RK45', \n",
    "                t_eval=t_eval, \n",
    "                args=(N, x_Le, w_Le, w_bary, D, G, l_left, l_right))\n",
    "\n",
    "fig = plt.figure()\n",
    "ax = fig.add_subplot(111)\n",
    "\n",
    "Nt = len(t_eval)\n",
    "for it in range(Nt):\n",
    "    ax.plot(x_Le, sol.y[:,it], label='t={}'.format(t_eval[it]))\n",
    "\n",
    "ax.legend()\n",
    "ax.set_title(r'$u_t=u_{xx}$')"
   ]
  }
 ],
 "metadata": {
  "kernelspec": {
   "display_name": "Python 3 (ipykernel)",
   "language": "python",
   "name": "python3"
  },
  "language_info": {
   "codemirror_mode": {
    "name": "ipython",
    "version": 3
   },
   "file_extension": ".py",
   "mimetype": "text/x-python",
   "name": "python",
   "nbconvert_exporter": "python",
   "pygments_lexer": "ipython3",
   "version": "3.9.13"
  }
 },
 "nbformat": 4,
 "nbformat_minor": 5
}
