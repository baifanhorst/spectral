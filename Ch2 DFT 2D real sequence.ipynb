{
 "cells": [
  {
   "cell_type": "code",
   "execution_count": 37,
   "id": "0ec14d40",
   "metadata": {},
   "outputs": [],
   "source": [
    "import numpy as np\n",
    "import matplotlib.pyplot as plt\n",
    "import pandas as pd\n",
    "from scipy.fft import fft, ifft, fft2, ifft2"
   ]
  },
  {
   "cell_type": "code",
   "execution_count": 14,
   "id": "71e67dee",
   "metadata": {},
   "outputs": [],
   "source": [
    "def DFT_2D_real_direct(f):\n",
    "    # Evaluate 2D DFT by direct summation\n",
    "    # DFT version as in David's book\n",
    "    \n",
    "    exp = np.exp\n",
    "    pi = np.pi\n",
    "    \n",
    "    N, M = f.shape\n",
    "    if N%2 != 0 or M%2 !=0:\n",
    "        print('Please use even number of elements in each dimension')\n",
    "        return\n",
    "    \n",
    "    F = np.zeros((N, M), dtype=complex)\n",
    "    for n in range(N):\n",
    "        for m in range(M):\n",
    "            \n",
    "            for j in range(N):\n",
    "                for k in range(M):\n",
    "                    F[n,m] += f[j,k] * exp(-1j * n * 2*pi/N * j) * exp(-1j * m * 2*pi/M * k)\n",
    "    F = F / (N*M)\n",
    "    return F\n",
    "    "
   ]
  },
  {
   "cell_type": "code",
   "execution_count": 31,
   "id": "5d14804d",
   "metadata": {
    "scrolled": false
   },
   "outputs": [
    {
     "name": "stdout",
     "output_type": "stream",
     "text": [
      "DFT 2D by Direct Summation\n",
      " [[ 0.52716727+0.00000000e+00j -0.03674819-8.12528870e-03j\n",
      "  -0.04041491-3.42083686e-17j -0.03674819+8.12528870e-03j]\n",
      " [ 0.00351351+1.19014803e-03j -0.0379522 +4.49728842e-02j\n",
      "   0.01522487+1.71652110e-02j  0.0418299 +1.20036847e-01j]\n",
      " [-0.03216463-4.79009094e-02j  0.06241125+2.61444434e-02j\n",
      "  -0.03651886+5.83933626e-02j -0.02696501-4.28943299e-02j]\n",
      " [ 0.01726402-1.34090002e-17j  0.0228059 -6.20080661e-02j\n",
      "  -0.03961218-2.41779252e-17j  0.0228059 +6.20080661e-02j]\n",
      " [-0.03216463+4.79009094e-02j -0.02696501+4.28943299e-02j\n",
      "  -0.03651886-5.83933626e-02j  0.06241125-2.61444434e-02j]\n",
      " [ 0.00351351-1.19014803e-03j  0.0418299 -1.20036847e-01j\n",
      "   0.01522487-1.71652110e-02j -0.0379522 -4.49728842e-02j]]\n"
     ]
    }
   ],
   "source": [
    "f = np.random.rand(6,4)\n",
    "N, M = f.shape\n",
    "F_direct = DFT_2D_real_direct(f)\n",
    "print(\"DFT 2D by Direct Summation\\n\", F_direct)"
   ]
  },
  {
   "cell_type": "code",
   "execution_count": 32,
   "id": "11c92fc6",
   "metadata": {},
   "outputs": [
    {
     "name": "stdout",
     "output_type": "stream",
     "text": [
      "DFT 2D by scipy rescaled\n",
      " [[ 0.52716727-0.00000000e+00j -0.03674819-8.12528870e-03j\n",
      "  -0.04041491+0.00000000e+00j -0.03674819+8.12528870e-03j]\n",
      " [ 0.00351351+1.19014803e-03j -0.0379522 +4.49728842e-02j\n",
      "   0.01522487+1.71652110e-02j  0.0418299 +1.20036847e-01j]\n",
      " [-0.03216463-4.79009094e-02j  0.06241125+2.61444434e-02j\n",
      "  -0.03651886+5.83933626e-02j -0.02696501-4.28943299e-02j]\n",
      " [ 0.01726402+4.33680869e-19j  0.0228059 -6.20080661e-02j\n",
      "  -0.03961218+2.31296463e-18j  0.0228059 +6.20080661e-02j]\n",
      " [-0.03216463+4.79009094e-02j -0.02696501+4.28943299e-02j\n",
      "  -0.03651886-5.83933626e-02j  0.06241125-2.61444434e-02j]\n",
      " [ 0.00351351-1.19014803e-03j  0.0418299 -1.20036847e-01j\n",
      "   0.01522487-1.71652110e-02j -0.0379522 -4.49728842e-02j]]\n"
     ]
    }
   ],
   "source": [
    "# Compare with scipy fft2\n",
    "# Result shows that FFT by scipy only sums the terms without rescaling the sum by NM\n",
    "F_scipy = fft2(f)\n",
    "print(\"DFT 2D by scipy rescaled\\n\", F_scipy/(N*M))\n",
    "print(\"DFT 2D by Direct Summation\\n\", F_direct)"
   ]
  },
  {
   "cell_type": "code",
   "execution_count": 33,
   "id": "0dbe060c",
   "metadata": {},
   "outputs": [],
   "source": [
    "def DFT_2D_real_Two1DDFT(f):\n",
    "    # DFT for a 2D real sequence by taking 1D DFT twice\n",
    "    # DFT version as in David's book\n",
    "    \n",
    "    N, M = f.shape\n",
    "    \n",
    "    F = np.empty(f.shape, dtype=complex)\n",
    "    \n",
    "    for k in range(M):\n",
    "        F[:, k] = fft(f[:, k])\n",
    "    \n",
    "    for n in range(N):\n",
    "        F[n, :] = fft(F[n, :])\n",
    "        \n",
    "    F = F / (N * M)\n",
    "    return F"
   ]
  },
  {
   "cell_type": "code",
   "execution_count": 35,
   "id": "8bd99875",
   "metadata": {
    "scrolled": false
   },
   "outputs": [
    {
     "name": "stdout",
     "output_type": "stream",
     "text": [
      "DFT 2D by two 1D DFT\n",
      " [[ 0.52716727-0.j         -0.03674819-0.00812529j -0.04041491+0.j\n",
      "  -0.03674819+0.00812529j]\n",
      " [ 0.00351351+0.00119015j -0.0379522 +0.04497288j  0.01522487+0.01716521j\n",
      "   0.0418299 +0.12003685j]\n",
      " [-0.03216463-0.04790091j  0.06241125+0.02614444j -0.03651886+0.05839336j\n",
      "  -0.02696501-0.04289433j]\n",
      " [ 0.01726402-0.j          0.0228059 -0.06200807j -0.03961218+0.j\n",
      "   0.0228059 +0.06200807j]\n",
      " [-0.03216463+0.04790091j -0.02696501+0.04289433j -0.03651886-0.05839336j\n",
      "   0.06241125-0.02614444j]\n",
      " [ 0.00351351-0.00119015j  0.0418299 -0.12003685j  0.01522487-0.01716521j\n",
      "  -0.0379522 -0.04497288j]]\n",
      "DFT 2D by Direct Summation\n",
      " [[ 0.52716727+0.00000000e+00j -0.03674819-8.12528870e-03j\n",
      "  -0.04041491-3.42083686e-17j -0.03674819+8.12528870e-03j]\n",
      " [ 0.00351351+1.19014803e-03j -0.0379522 +4.49728842e-02j\n",
      "   0.01522487+1.71652110e-02j  0.0418299 +1.20036847e-01j]\n",
      " [-0.03216463-4.79009094e-02j  0.06241125+2.61444434e-02j\n",
      "  -0.03651886+5.83933626e-02j -0.02696501-4.28943299e-02j]\n",
      " [ 0.01726402-1.34090002e-17j  0.0228059 -6.20080661e-02j\n",
      "  -0.03961218-2.41779252e-17j  0.0228059 +6.20080661e-02j]\n",
      " [-0.03216463+4.79009094e-02j -0.02696501+4.28943299e-02j\n",
      "  -0.03651886-5.83933626e-02j  0.06241125-2.61444434e-02j]\n",
      " [ 0.00351351-1.19014803e-03j  0.0418299 -1.20036847e-01j\n",
      "   0.01522487-1.71652110e-02j -0.0379522 -4.49728842e-02j]]\n"
     ]
    }
   ],
   "source": [
    "# Compare with two 1D DFT\n",
    "F_Two1DDFT = DFT_2D_real_Two1DDFT(f)\n",
    "print(\"DFT 2D by two 1D DFT\\n\", F_Two1DDFT)\n",
    "print(\"DFT 2D by Direct Summation\\n\", F_direct)"
   ]
  }
 ],
 "metadata": {
  "kernelspec": {
   "display_name": "Python 3 (ipykernel)",
   "language": "python",
   "name": "python3"
  },
  "language_info": {
   "codemirror_mode": {
    "name": "ipython",
    "version": 3
   },
   "file_extension": ".py",
   "mimetype": "text/x-python",
   "name": "python",
   "nbconvert_exporter": "python",
   "pygments_lexer": "ipython3",
   "version": "3.9.13"
  }
 },
 "nbformat": 4,
 "nbformat_minor": 5
}
