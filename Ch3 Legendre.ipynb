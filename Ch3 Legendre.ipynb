{
 "cells": [
  {
   "cell_type": "code",
   "execution_count": 5,
   "id": "12af3ad5",
   "metadata": {},
   "outputs": [],
   "source": [
    "import numpy as np\n",
    "import matplotlib.pyplot as plt\n",
    "import pandas as pd\n",
    "\n",
    "from scipy.special import legendre, eval_legendre"
   ]
  },
  {
   "cell_type": "code",
   "execution_count": 9,
   "id": "ea8d3fc6",
   "metadata": {},
   "outputs": [],
   "source": [
    "def LegendrePolynomial(n, x):\n",
    "    # Calculating the value of the nth order Legendre polynomial\n",
    "    # by recursion\n",
    "    \n",
    "    if n==0:\n",
    "        return 1\n",
    "    elif n==1:\n",
    "        return x\n",
    "    \n",
    "    L_k_minus_2 = 1\n",
    "    L_k_minus_1 = x\n",
    "    \n",
    "    for k in range(2, n+1):\n",
    "        L_k = (2*k - 1) / k * x * L_k_minus_1 - (k - 1)/k * L_k_minus_2\n",
    "        L_k_minus_2 = L_k_minus_1\n",
    "        L_k_minus_1 = L_k\n",
    "        \n",
    "    return L_k"
   ]
  },
  {
   "cell_type": "code",
   "execution_count": 14,
   "id": "df079a22",
   "metadata": {
    "scrolled": false
   },
   "outputs": [
    {
     "name": "stdout",
     "output_type": "stream",
     "text": [
      "0.47250000000000014\n",
      "0.47250000000000025\n"
     ]
    }
   ],
   "source": [
    "k = 3\n",
    "x = 0.9\n",
    "print(eval_legendre(k, x))\n",
    "print(LegendrePolynomial(k, x))"
   ]
  },
  {
   "cell_type": "code",
   "execution_count": null,
   "id": "7f12c976",
   "metadata": {},
   "outputs": [],
   "source": []
  }
 ],
 "metadata": {
  "kernelspec": {
   "display_name": "Python 3 (ipykernel)",
   "language": "python",
   "name": "python3"
  },
  "language_info": {
   "codemirror_mode": {
    "name": "ipython",
    "version": 3
   },
   "file_extension": ".py",
   "mimetype": "text/x-python",
   "name": "python",
   "nbconvert_exporter": "python",
   "pygments_lexer": "ipython3",
   "version": "3.9.13"
  }
 },
 "nbformat": 4,
 "nbformat_minor": 5
}
