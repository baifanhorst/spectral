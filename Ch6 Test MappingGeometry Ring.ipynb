{
 "cells": [
  {
   "cell_type": "code",
   "execution_count": 34,
   "id": "cbe940cc",
   "metadata": {},
   "outputs": [],
   "source": [
    "import numpy as np\n",
    "from numpy import pi, cos, sin\n",
    "\n",
    "import matplotlib.pyplot as plt\n",
    "\n",
    "# Reloading the module\n",
    "import importlib\n",
    "\n",
    "import Nodal2D\n",
    "importlib.reload(Nodal2D)\n",
    "from Nodal2D import *\n",
    "\n",
    "import Curve\n",
    "importlib.reload(Curve)\n",
    "from Curve import *\n",
    "\n",
    "import MappingGeometry2D\n",
    "importlib.reload(MappingGeometry2D)\n",
    "from MappingGeometry2D import *"
   ]
  },
  {
   "cell_type": "markdown",
   "id": "04d743d6",
   "metadata": {},
   "source": [
    "## Boundary curves"
   ]
  },
  {
   "cell_type": "code",
   "execution_count": 35,
   "id": "107fc176",
   "metadata": {},
   "outputs": [],
   "source": [
    "# Inner and outer radius\n",
    "a = 1\n",
    "b = 2"
   ]
  },
  {
   "cell_type": "code",
   "execution_count": 36,
   "id": "405b1c01",
   "metadata": {},
   "outputs": [],
   "source": [
    "# Creating curve1\n",
    "# Create a curve class\n",
    "c1 = Curve2D(N=10)\n",
    "# Set boundary parameter points to be Legendre Gauss Lobbato points\n",
    "c1.set_parameter_points(point_type=\"Legendre\")\n",
    "c1.set_BarycentricWeights()\n",
    "c1.set_DiffMatrix()\n",
    "\n",
    "# Parameter range\n",
    "par_range = np.array([-1,1])\n",
    "x_start = a\n",
    "y_start = 0\n",
    "x_end = b\n",
    "y_end = 0\n",
    "\n",
    "\n",
    "def x(t):\n",
    "    return (x_start * (1-t) + x_end * (1+t))/2\n",
    "\n",
    "def y(t):\n",
    "    return (y_start * (1-t) + y_end * (1+t))/2\n",
    "\n",
    "def x_deri(t):\n",
    "    return (x_end - x_start)/2\n",
    "\n",
    "def y_deri(t):\n",
    "    return (y_end - y_start)/2\n",
    "\n",
    "c1.reparameterization(x, y, x_deri, y_deri, par_range)\n",
    "c1.cal_derivatives_node()"
   ]
  },
  {
   "cell_type": "code",
   "execution_count": 37,
   "id": "4a2af730",
   "metadata": {},
   "outputs": [],
   "source": [
    "# Creating curve2\n",
    "# Create a curve class\n",
    "c2 = Curve2D(N=20)\n",
    "# Set boundary parameter points to be Legendre Gauss Lobbato points\n",
    "c2.set_parameter_points(point_type=\"Chebyshev\")\n",
    "c2.set_BarycentricWeights()\n",
    "c2.set_DiffMatrix()\n",
    "\n",
    "# Parameter range\n",
    "par_range = np.array([0, pi/2])\n",
    "\n",
    "\n",
    "\n",
    "def x(t):\n",
    "    return b * cos(t)\n",
    "\n",
    "def y(t):\n",
    "    return b * sin(t)\n",
    "\n",
    "def x_deri(t):\n",
    "    return - b * sin(t)\n",
    "\n",
    "def y_deri(t):\n",
    "    return b * cos(t)\n",
    "\n",
    "c2.reparameterization(x, y, x_deri, y_deri, par_range)\n",
    "c2.cal_derivatives_node()"
   ]
  },
  {
   "cell_type": "code",
   "execution_count": 38,
   "id": "e677739b",
   "metadata": {
    "scrolled": true
   },
   "outputs": [],
   "source": [
    "# Creating curve3\n",
    "# Create a curve class\n",
    "c3 = Curve2D(N=10)\n",
    "# Set boundary parameter points to be Legendre Gauss Lobbato points\n",
    "c3.set_parameter_points(point_type=\"Legendre\")\n",
    "c3.set_BarycentricWeights()\n",
    "c3.set_DiffMatrix()\n",
    "\n",
    "# Parameter range\n",
    "par_range = np.array([-1,1])\n",
    "x_start = 0\n",
    "y_start = a\n",
    "x_end = 0\n",
    "y_end = b\n",
    "\n",
    "\n",
    "def x(t):\n",
    "    return (x_start * (1-t) + x_end * (1+t))/2\n",
    "\n",
    "def y(t):\n",
    "    return (y_start * (1-t) + y_end * (1+t))/2\n",
    "\n",
    "def x_deri(t):\n",
    "    return (x_end - x_start)/2\n",
    "\n",
    "def y_deri(t):\n",
    "    return (y_end - y_start)/2\n",
    "\n",
    "c3.reparameterization(x, y, x_deri, y_deri, par_range)\n",
    "c3.cal_derivatives_node()"
   ]
  },
  {
   "cell_type": "code",
   "execution_count": 39,
   "id": "07ddc162",
   "metadata": {},
   "outputs": [],
   "source": [
    "# Creating curve4\n",
    "# Create a curve class\n",
    "c4 = Curve2D(N=20)\n",
    "# Set boundary parameter points to be Legendre Gauss Lobbato points\n",
    "c4.set_parameter_points(point_type=\"Chebyshev\")\n",
    "c4.set_BarycentricWeights()\n",
    "c4.set_DiffMatrix()\n",
    "\n",
    "# Parameter range\n",
    "par_range = np.array([0, pi/2])\n",
    "\n",
    "def x(t):\n",
    "    return a * cos(t)\n",
    "\n",
    "def y(t):\n",
    "    return a * sin(t)\n",
    "\n",
    "def x_deri(t):\n",
    "    return - a * sin(t)\n",
    "\n",
    "def y_deri(t):\n",
    "    return a * cos(t)\n",
    "\n",
    "c4.reparameterization(x, y, x_deri, y_deri, par_range)\n",
    "c4.cal_derivatives_node()"
   ]
  },
  {
   "cell_type": "code",
   "execution_count": 40,
   "id": "912b8b57",
   "metadata": {},
   "outputs": [
    {
     "name": "stdout",
     "output_type": "stream",
     "text": [
      "[0. 0. 0. 0. 0. 0. 0. 0. 0. 0. 0.]\n",
      "[-1.         -0.9973579  -0.98949664 -0.9766098  -0.9590147  -0.93714458\n",
      " -0.91153796 -0.88282536 -0.85171378 -0.81896929 -0.78539816 -0.75182704\n",
      " -0.71908255 -0.68797097 -0.65925837 -0.63365175 -0.61178163 -0.59418653\n",
      " -0.58129969 -0.57343843 -0.57079633]\n",
      "[0. 0. 0. 0. 0. 0. 0. 0. 0. 0. 0.]\n",
      "[-1.         -0.9973579  -0.98949664 -0.9766098  -0.9590147  -0.93714458\n",
      " -0.91153796 -0.88282536 -0.85171378 -0.81896929 -0.78539816 -0.75182704\n",
      " -0.71908255 -0.68797097 -0.65925837 -0.63365175 -0.61178163 -0.59418653\n",
      " -0.58129969 -0.57343843 -0.57079633]\n"
     ]
    }
   ],
   "source": [
    "print(c1.parameter_points - c1.parameter_points_original)\n",
    "print(c2.parameter_points - c2.parameter_points_original)\n",
    "print(c3.parameter_points - c3.parameter_points_original)\n",
    "print(c4.parameter_points - c4.parameter_points_original)"
   ]
  },
  {
   "cell_type": "code",
   "execution_count": 41,
   "id": "e9d14432",
   "metadata": {},
   "outputs": [],
   "source": [
    "curves = [c1, c2, c3, c4]"
   ]
  },
  {
   "cell_type": "code",
   "execution_count": 42,
   "id": "32f28fab",
   "metadata": {
    "scrolled": false
   },
   "outputs": [
    {
     "data": {
      "image/png": "[encoded data removed]",
      "text/plain": [
       "<Figure size 640x480 with 1 Axes>"
      ]
     },
     "metadata": {},
     "output_type": "display_data"
    }
   ],
   "source": [
    "# Testing the geometry\n",
    "fig, ax = plt.subplots(nrows=1, ncols=1)\n",
    "for i, c in enumerate(curves):\n",
    "    ax.scatter(c.x_nodes, c.y_nodes, label='Curve {}'.format(i+1))\n",
    "ax.legend()\n",
    "ax.set_title('Boundary nodes')\n",
    "ax.set_aspect('equal')"
   ]
  },
  {
   "cell_type": "markdown",
   "id": "b39268ae",
   "metadata": {},
   "source": [
    "## Inner nodes"
   ]
  },
  {
   "cell_type": "code",
   "execution_count": 43,
   "id": "bab840f1",
   "metadata": {},
   "outputs": [],
   "source": [
    "N = 15\n",
    "M = 15\n",
    "nodal2D = Nodal2D(N,M)\n",
    "nodal2D.cal_nodes(node_type_x=\"Legendre\", node_type_y=\"Chebyshev\")"
   ]
  },
  {
   "cell_type": "markdown",
   "id": "a7a0a4e7",
   "metadata": {},
   "source": [
    "## Mapping geometry class"
   ]
  },
  {
   "cell_type": "code",
   "execution_count": 44,
   "id": "b1da659b",
   "metadata": {},
   "outputs": [],
   "source": [
    "mg = MappingGeometry2D(nodal2D=nodal2D, curves=curves)"
   ]
  },
  {
   "cell_type": "code",
   "execution_count": 45,
   "id": "c8449555",
   "metadata": {},
   "outputs": [
    {
     "name": "stdout",
     "output_type": "stream",
     "text": [
      "Physical coordinates (general) [0.53386825 1.40437852]\n",
      "Physical coordinates (quad) [0.34746316 1.15496632]\n"
     ]
    }
   ],
   "source": [
    "# Testing the map\n",
    "xi = np.random.rand() * 2 - 1\n",
    "eta = np.random.rand() * 2 - 1\n",
    "print(\"Physical coordinates (general)\", mg.cal_Map(xi, eta))\n",
    "print(\"Physical coordinates (quad)\", mg.cal_QuadMap(xi, eta))"
   ]
  },
  {
   "cell_type": "code",
   "execution_count": 46,
   "id": "5d0ac824",
   "metadata": {},
   "outputs": [
    {
     "name": "stdout",
     "output_type": "stream",
     "text": [
      "Metrics (general) (0.1505824008131385, 0.47678605324123996, -1.4776716066206386, 0.4666901152533418)\n",
      "Metrics (quad) (0.0973754291101217, 0.4026245708898783, -0.9865168616466438, 0.9865168616466438)\n"
     ]
    }
   ],
   "source": [
    "# Testing the map derivatives\n",
    "xi = np.random.rand() * 2 - 1\n",
    "eta = np.random.rand() * 2 - 1\n",
    "print(\"Metrics (general)\", mg.cal_MapDerivatives(xi, eta))\n",
    "print(\"Metrics (quad)\", mg.cal_QuadMapDerivatives(xi, eta))"
   ]
  },
  {
   "cell_type": "code",
   "execution_count": 47,
   "id": "afe14963",
   "metadata": {},
   "outputs": [
    {
     "data": {
      "text/plain": [
       "(16, 16)"
      ]
     },
     "execution_count": 47,
     "metadata": {},
     "output_type": "execute_result"
    }
   ],
   "source": [
    "mg.nodes_phy_x.shape"
   ]
  },
  {
   "cell_type": "code",
   "execution_count": 48,
   "id": "96e76e38",
   "metadata": {
    "scrolled": true
   },
   "outputs": [
    {
     "data": {
      "image/png": "[encoded data removed]",
      "text/plain": [
       "<Figure size 640x480 with 2 Axes>"
      ]
     },
     "metadata": {},
     "output_type": "display_data"
    }
   ],
   "source": [
    "# Testing physical node calculation \n",
    "fig, ax = plt.subplots(nrows=1, ncols=2)\n",
    "Nx = mg.nodal2D.Nx\n",
    "Ny = mg.nodal2D.Ny\n",
    "\n",
    "mg.cal_QuadMap_nodes()\n",
    "for i in range(Nx+1):\n",
    "    for j in range(Ny+1):\n",
    "        ax[0].scatter(mg.nodes_phy_x[i,j], mg.nodes_phy_y[i,j], color='blue')\n",
    "ax[0].set_title('Inner nodes, quad map')\n",
    "ax[0].set_aspect('equal')\n",
    "\n",
    "mg.cal_Map_nodes()\n",
    "for i in range(Nx+1):\n",
    "    for j in range(Ny+1):\n",
    "        ax[1].scatter(mg.nodes_phy_x[i,j], mg.nodes_phy_y[i,j], color='blue')\n",
    "ax[1].set_title('Inner nodes, general map')\n",
    "ax[1].set_aspect('equal')"
   ]
  },
  {
   "cell_type": "code",
   "execution_count": 49,
   "id": "3c0d88b4",
   "metadata": {
    "scrolled": false
   },
   "outputs": [
    {
     "data": {
      "text/plain": [
       "array([[0.        , 0.0054631 , 0.02161364, 0.04774575, 0.08271735,\n",
       "        0.125     , 0.17274575, 0.22386788, 0.27613212, 0.32725425,\n",
       "        0.375     , 0.41728265, 0.45225425, 0.47838636, 0.4945369 ,\n",
       "        0.5       ],\n",
       "       [0.        , 0.0054631 , 0.02161364, 0.04774575, 0.08271735,\n",
       "        0.125     , 0.17274575, 0.22386788, 0.27613212, 0.32725425,\n",
       "        0.375     , 0.41728265, 0.45225425, 0.47838636, 0.4945369 ,\n",
       "        0.5       ],\n",
       "       [0.        , 0.0054631 , 0.02161364, 0.04774575, 0.08271735,\n",
       "        0.125     , 0.17274575, 0.22386788, 0.27613212, 0.32725425,\n",
       "        0.375     , 0.41728265, 0.45225425, 0.47838636, 0.4945369 ,\n",
       "        0.5       ],\n",
       "       [0.        , 0.0054631 , 0.02161364, 0.04774575, 0.08271735,\n",
       "        0.125     , 0.17274575, 0.22386788, 0.27613212, 0.32725425,\n",
       "        0.375     , 0.41728265, 0.45225425, 0.47838636, 0.4945369 ,\n",
       "        0.5       ],\n",
       "       [0.        , 0.0054631 , 0.02161364, 0.04774575, 0.08271735,\n",
       "        0.125     , 0.17274575, 0.22386788, 0.27613212, 0.32725425,\n",
       "        0.375     , 0.41728265, 0.45225425, 0.47838636, 0.4945369 ,\n",
       "        0.5       ],\n",
       "       [0.        , 0.0054631 , 0.02161364, 0.04774575, 0.08271735,\n",
       "        0.125     , 0.17274575, 0.22386788, 0.27613212, 0.32725425,\n",
       "        0.375     , 0.41728265, 0.45225425, 0.47838636, 0.4945369 ,\n",
       "        0.5       ],\n",
       "       [0.        , 0.0054631 , 0.02161364, 0.04774575, 0.08271735,\n",
       "        0.125     , 0.17274575, 0.22386788, 0.27613212, 0.32725425,\n",
       "        0.375     , 0.41728265, 0.45225425, 0.47838636, 0.4945369 ,\n",
       "        0.5       ],\n",
       "       [0.        , 0.0054631 , 0.02161364, 0.04774575, 0.08271735,\n",
       "        0.125     , 0.17274575, 0.22386788, 0.27613212, 0.32725425,\n",
       "        0.375     , 0.41728265, 0.45225425, 0.47838636, 0.4945369 ,\n",
       "        0.5       ],\n",
       "       [0.        , 0.0054631 , 0.02161364, 0.04774575, 0.08271735,\n",
       "        0.125     , 0.17274575, 0.22386788, 0.27613212, 0.32725425,\n",
       "        0.375     , 0.41728265, 0.45225425, 0.47838636, 0.4945369 ,\n",
       "        0.5       ],\n",
       "       [0.        , 0.0054631 , 0.02161364, 0.04774575, 0.08271735,\n",
       "        0.125     , 0.17274575, 0.22386788, 0.27613212, 0.32725425,\n",
       "        0.375     , 0.41728265, 0.45225425, 0.47838636, 0.4945369 ,\n",
       "        0.5       ],\n",
       "       [0.        , 0.0054631 , 0.02161364, 0.04774575, 0.08271735,\n",
       "        0.125     , 0.17274575, 0.22386788, 0.27613212, 0.32725425,\n",
       "        0.375     , 0.41728265, 0.45225425, 0.47838636, 0.4945369 ,\n",
       "        0.5       ],\n",
       "       [0.        , 0.0054631 , 0.02161364, 0.04774575, 0.08271735,\n",
       "        0.125     , 0.17274575, 0.22386788, 0.27613212, 0.32725425,\n",
       "        0.375     , 0.41728265, 0.45225425, 0.47838636, 0.4945369 ,\n",
       "        0.5       ],\n",
       "       [0.        , 0.0054631 , 0.02161364, 0.04774575, 0.08271735,\n",
       "        0.125     , 0.17274575, 0.22386788, 0.27613212, 0.32725425,\n",
       "        0.375     , 0.41728265, 0.45225425, 0.47838636, 0.4945369 ,\n",
       "        0.5       ],\n",
       "       [0.        , 0.0054631 , 0.02161364, 0.04774575, 0.08271735,\n",
       "        0.125     , 0.17274575, 0.22386788, 0.27613212, 0.32725425,\n",
       "        0.375     , 0.41728265, 0.45225425, 0.47838636, 0.4945369 ,\n",
       "        0.5       ],\n",
       "       [0.        , 0.0054631 , 0.02161364, 0.04774575, 0.08271735,\n",
       "        0.125     , 0.17274575, 0.22386788, 0.27613212, 0.32725425,\n",
       "        0.375     , 0.41728265, 0.45225425, 0.47838636, 0.4945369 ,\n",
       "        0.5       ],\n",
       "       [0.        , 0.0054631 , 0.02161364, 0.04774575, 0.08271735,\n",
       "        0.125     , 0.17274575, 0.22386788, 0.27613212, 0.32725425,\n",
       "        0.375     , 0.41728265, 0.45225425, 0.47838636, 0.4945369 ,\n",
       "        0.5       ]])"
      ]
     },
     "execution_count": 49,
     "metadata": {},
     "output_type": "execute_result"
    }
   ],
   "source": [
    "# Testing the derivative calculation\n",
    "mg.cal_QuadMapDerivatives_nodes()\n",
    "mg.Y_xi"
   ]
  },
  {
   "cell_type": "code",
   "execution_count": 50,
   "id": "296ed206",
   "metadata": {
    "scrolled": false
   },
   "outputs": [
    {
     "data": {
      "text/plain": [
       "array([[0.        , 0.008581  , 0.03392454, 0.07471793, 0.12847466,\n",
       "        0.19134172, 0.25822359, 0.32336973, 0.3813555 , 0.42815953,\n",
       "        0.46193977, 0.48321244, 0.49438571, 0.4988478 , 0.49992636,\n",
       "        0.5       ],\n",
       "       [0.        , 0.008581  , 0.03392454, 0.07471793, 0.12847466,\n",
       "        0.19134172, 0.25822359, 0.32336973, 0.3813555 , 0.42815953,\n",
       "        0.46193977, 0.48321244, 0.49438571, 0.4988478 , 0.49992636,\n",
       "        0.5       ],\n",
       "       [0.        , 0.008581  , 0.03392454, 0.07471793, 0.12847466,\n",
       "        0.19134172, 0.25822359, 0.32336973, 0.3813555 , 0.42815953,\n",
       "        0.46193977, 0.48321244, 0.49438571, 0.4988478 , 0.49992636,\n",
       "        0.5       ],\n",
       "       [0.        , 0.008581  , 0.03392454, 0.07471793, 0.12847466,\n",
       "        0.19134172, 0.25822359, 0.32336973, 0.3813555 , 0.42815953,\n",
       "        0.46193977, 0.48321244, 0.49438571, 0.4988478 , 0.49992636,\n",
       "        0.5       ],\n",
       "       [0.        , 0.008581  , 0.03392454, 0.07471793, 0.12847466,\n",
       "        0.19134172, 0.25822359, 0.32336973, 0.3813555 , 0.42815953,\n",
       "        0.46193977, 0.48321244, 0.49438571, 0.4988478 , 0.49992636,\n",
       "        0.5       ],\n",
       "       [0.        , 0.008581  , 0.03392454, 0.07471793, 0.12847466,\n",
       "        0.19134172, 0.25822359, 0.32336973, 0.3813555 , 0.42815953,\n",
       "        0.46193977, 0.48321244, 0.49438571, 0.4988478 , 0.49992636,\n",
       "        0.5       ],\n",
       "       [0.        , 0.008581  , 0.03392454, 0.07471793, 0.12847466,\n",
       "        0.19134172, 0.25822359, 0.32336973, 0.3813555 , 0.42815953,\n",
       "        0.46193977, 0.48321244, 0.49438571, 0.4988478 , 0.49992636,\n",
       "        0.5       ],\n",
       "       [0.        , 0.008581  , 0.03392454, 0.07471793, 0.12847466,\n",
       "        0.19134172, 0.25822359, 0.32336973, 0.3813555 , 0.42815953,\n",
       "        0.46193977, 0.48321244, 0.49438571, 0.4988478 , 0.49992636,\n",
       "        0.5       ],\n",
       "       [0.        , 0.008581  , 0.03392454, 0.07471793, 0.12847466,\n",
       "        0.19134172, 0.25822359, 0.32336973, 0.3813555 , 0.42815953,\n",
       "        0.46193977, 0.48321244, 0.49438571, 0.4988478 , 0.49992636,\n",
       "        0.5       ],\n",
       "       [0.        , 0.008581  , 0.03392454, 0.07471793, 0.12847466,\n",
       "        0.19134172, 0.25822359, 0.32336973, 0.3813555 , 0.42815953,\n",
       "        0.46193977, 0.48321244, 0.49438571, 0.4988478 , 0.49992636,\n",
       "        0.5       ],\n",
       "       [0.        , 0.008581  , 0.03392454, 0.07471793, 0.12847466,\n",
       "        0.19134172, 0.25822359, 0.32336973, 0.3813555 , 0.42815953,\n",
       "        0.46193977, 0.48321244, 0.49438571, 0.4988478 , 0.49992636,\n",
       "        0.5       ],\n",
       "       [0.        , 0.008581  , 0.03392454, 0.07471793, 0.12847466,\n",
       "        0.19134172, 0.25822359, 0.32336973, 0.3813555 , 0.42815953,\n",
       "        0.46193977, 0.48321244, 0.49438571, 0.4988478 , 0.49992636,\n",
       "        0.5       ],\n",
       "       [0.        , 0.008581  , 0.03392454, 0.07471793, 0.12847466,\n",
       "        0.19134172, 0.25822359, 0.32336973, 0.3813555 , 0.42815953,\n",
       "        0.46193977, 0.48321244, 0.49438571, 0.4988478 , 0.49992636,\n",
       "        0.5       ],\n",
       "       [0.        , 0.008581  , 0.03392454, 0.07471793, 0.12847466,\n",
       "        0.19134172, 0.25822359, 0.32336973, 0.3813555 , 0.42815953,\n",
       "        0.46193977, 0.48321244, 0.49438571, 0.4988478 , 0.49992636,\n",
       "        0.5       ],\n",
       "       [0.        , 0.008581  , 0.03392454, 0.07471793, 0.12847466,\n",
       "        0.19134172, 0.25822359, 0.32336973, 0.3813555 , 0.42815953,\n",
       "        0.46193977, 0.48321244, 0.49438571, 0.4988478 , 0.49992636,\n",
       "        0.5       ],\n",
       "       [0.        , 0.008581  , 0.03392454, 0.07471793, 0.12847466,\n",
       "        0.19134172, 0.25822359, 0.32336973, 0.3813555 , 0.42815953,\n",
       "        0.46193977, 0.48321244, 0.49438571, 0.4988478 , 0.49992636,\n",
       "        0.5       ]])"
      ]
     },
     "execution_count": 50,
     "metadata": {},
     "output_type": "execute_result"
    }
   ],
   "source": [
    "mg.cal_MapDerivatives_nodes()\n",
    "mg.Y_xi"
   ]
  },
  {
   "cell_type": "code",
   "execution_count": 51,
   "id": "c1d3093c",
   "metadata": {
    "scrolled": false
   },
   "outputs": [
    {
     "data": {
      "text/plain": [
       "array([[0.39269908, 0.39269908, 0.39269908, 0.39269908, 0.39269908,\n",
       "        0.39269908, 0.39269908, 0.39269908, 0.39269908, 0.39269908,\n",
       "        0.39269908, 0.39269908, 0.39269908, 0.39269908, 0.39269908,\n",
       "        0.39269908],\n",
       "       [0.39867438, 0.39867438, 0.39867438, 0.39867438, 0.39867438,\n",
       "        0.39867438, 0.39867438, 0.39867438, 0.39867438, 0.39867438,\n",
       "        0.39867438, 0.39867438, 0.39867438, 0.39867438, 0.39867438,\n",
       "        0.39867438],\n",
       "       [0.41249101, 0.41249101, 0.41249101, 0.41249101, 0.41249101,\n",
       "        0.41249101, 0.41249101, 0.41249101, 0.41249101, 0.41249101,\n",
       "        0.41249101, 0.41249101, 0.41249101, 0.41249101, 0.41249101,\n",
       "        0.41249101],\n",
       "       [0.43353816, 0.43353816, 0.43353816, 0.43353816, 0.43353816,\n",
       "        0.43353816, 0.43353816, 0.43353816, 0.43353816, 0.43353816,\n",
       "        0.43353816, 0.43353816, 0.43353816, 0.43353816, 0.43353816,\n",
       "        0.43353816],\n",
       "       [0.4609524 , 0.4609524 , 0.4609524 , 0.4609524 , 0.4609524 ,\n",
       "        0.4609524 , 0.4609524 , 0.4609524 , 0.4609524 , 0.4609524 ,\n",
       "        0.4609524 , 0.4609524 , 0.4609524 , 0.4609524 , 0.4609524 ,\n",
       "        0.4609524 ],\n",
       "       [0.49361108, 0.49361108, 0.49361108, 0.49361108, 0.49361108,\n",
       "        0.49361108, 0.49361108, 0.49361108, 0.49361108, 0.49361108,\n",
       "        0.49361108, 0.49361108, 0.49361108, 0.49361108, 0.49361108,\n",
       "        0.49361108],\n",
       "       [0.53017705, 0.53017705, 0.53017705, 0.53017705, 0.53017705,\n",
       "        0.53017705, 0.53017705, 0.53017705, 0.53017705, 0.53017705,\n",
       "        0.53017705, 0.53017705, 0.53017705, 0.53017705, 0.53017705,\n",
       "        0.53017705],\n",
       "       [0.56915326, 0.56915326, 0.56915326, 0.56915326, 0.56915326,\n",
       "        0.56915326, 0.56915326, 0.56915326, 0.56915326, 0.56915326,\n",
       "        0.56915326, 0.56915326, 0.56915326, 0.56915326, 0.56915326,\n",
       "        0.56915326],\n",
       "       [0.60894399, 0.60894399, 0.60894399, 0.60894399, 0.60894399,\n",
       "        0.60894399, 0.60894399, 0.60894399, 0.60894399, 0.60894399,\n",
       "        0.60894399, 0.60894399, 0.60894399, 0.60894399, 0.60894399,\n",
       "        0.60894399],\n",
       "       [0.6479202 , 0.6479202 , 0.6479202 , 0.6479202 , 0.6479202 ,\n",
       "        0.6479202 , 0.6479202 , 0.6479202 , 0.6479202 , 0.6479202 ,\n",
       "        0.6479202 , 0.6479202 , 0.6479202 , 0.6479202 , 0.6479202 ,\n",
       "        0.6479202 ],\n",
       "       [0.68448617, 0.68448617, 0.68448617, 0.68448617, 0.68448617,\n",
       "        0.68448617, 0.68448617, 0.68448617, 0.68448617, 0.68448617,\n",
       "        0.68448617, 0.68448617, 0.68448617, 0.68448617, 0.68448617,\n",
       "        0.68448617],\n",
       "       [0.71714484, 0.71714484, 0.71714484, 0.71714484, 0.71714484,\n",
       "        0.71714484, 0.71714484, 0.71714484, 0.71714484, 0.71714484,\n",
       "        0.71714484, 0.71714484, 0.71714484, 0.71714484, 0.71714484,\n",
       "        0.71714484],\n",
       "       [0.74455909, 0.74455909, 0.74455909, 0.74455909, 0.74455909,\n",
       "        0.74455909, 0.74455909, 0.74455909, 0.74455909, 0.74455909,\n",
       "        0.74455909, 0.74455909, 0.74455909, 0.74455909, 0.74455909,\n",
       "        0.74455909],\n",
       "       [0.76560623, 0.76560623, 0.76560623, 0.76560623, 0.76560623,\n",
       "        0.76560623, 0.76560623, 0.76560623, 0.76560623, 0.76560623,\n",
       "        0.76560623, 0.76560623, 0.76560623, 0.76560623, 0.76560623,\n",
       "        0.76560623],\n",
       "       [0.77942286, 0.77942286, 0.77942286, 0.77942286, 0.77942286,\n",
       "        0.77942286, 0.77942286, 0.77942286, 0.77942286, 0.77942286,\n",
       "        0.77942286, 0.77942286, 0.77942286, 0.77942286, 0.77942286,\n",
       "        0.77942286],\n",
       "       [0.78539816, 0.78539816, 0.78539816, 0.78539816, 0.78539816,\n",
       "        0.78539816, 0.78539816, 0.78539816, 0.78539816, 0.78539816,\n",
       "        0.78539816, 0.78539816, 0.78539816, 0.78539816, 0.78539816,\n",
       "        0.78539816]])"
      ]
     },
     "execution_count": 51,
     "metadata": {},
     "output_type": "execute_result"
    }
   ],
   "source": [
    "mg.cal_Jacobian()\n",
    "mg.J"
   ]
  },
  {
   "cell_type": "code",
   "execution_count": 52,
   "id": "d66b719f",
   "metadata": {
    "scrolled": true
   },
   "outputs": [
    {
     "name": "stdout",
     "output_type": "stream",
     "text": [
      "Lower normal vectors\n",
      " [[-0. -1.]\n",
      " [-0. -1.]\n",
      " [-0. -1.]\n",
      " [-0. -1.]\n",
      " [-0. -1.]\n",
      " [-0. -1.]\n",
      " [-0. -1.]\n",
      " [-0. -1.]\n",
      " [-0. -1.]\n",
      " [-0. -1.]\n",
      " [-0. -1.]\n",
      " [-0. -1.]\n",
      " [-0. -1.]\n",
      " [-0. -1.]\n",
      " [-0. -1.]\n",
      " [-0. -1.]]\n",
      "Upper normal vectors\n",
      " [[-1.000000e+00  6.123234e-17]\n",
      " [-1.000000e+00  6.123234e-17]\n",
      " [-1.000000e+00  6.123234e-17]\n",
      " [-1.000000e+00  6.123234e-17]\n",
      " [-1.000000e+00  6.123234e-17]\n",
      " [-1.000000e+00  6.123234e-17]\n",
      " [-1.000000e+00  6.123234e-17]\n",
      " [-1.000000e+00  6.123234e-17]\n",
      " [-1.000000e+00  6.123234e-17]\n",
      " [-1.000000e+00  6.123234e-17]\n",
      " [-1.000000e+00  6.123234e-17]\n",
      " [-1.000000e+00  6.123234e-17]\n",
      " [-1.000000e+00  6.123234e-17]\n",
      " [-1.000000e+00  6.123234e-17]\n",
      " [-1.000000e+00  6.123234e-17]\n",
      " [-1.000000e+00  6.123234e-17]]\n",
      "Left normal vectors\n",
      " [[-1.00000000e+00  1.35703666e-14]\n",
      " [-9.99852722e-01 -1.71619917e-02]\n",
      " [-9.97695596e-01 -6.78490735e-02]\n",
      " [-9.88771421e-01 -1.49435860e-01]\n",
      " [-9.66424877e-01 -2.56949327e-01]\n",
      " [-9.23879533e-01 -3.82683432e-01]\n",
      " [-8.56319051e-01 -5.16447174e-01]\n",
      " [-7.62711009e-01 -6.46739451e-01]\n",
      " [-6.46739451e-01 -7.62711009e-01]\n",
      " [-5.16447174e-01 -8.56319051e-01]\n",
      " [-3.82683432e-01 -9.23879533e-01]\n",
      " [-2.56949327e-01 -9.66424877e-01]\n",
      " [-1.49435860e-01 -9.88771421e-01]\n",
      " [-6.78490735e-02 -9.97695596e-01]\n",
      " [-1.71619917e-02 -9.99852722e-01]\n",
      " [-5.42814666e-14 -1.00000000e+00]]\n",
      "Right normal vectors\n",
      " [[ 1.00000000e+00 -1.35703666e-14]\n",
      " [ 9.99852722e-01  1.71619917e-02]\n",
      " [ 9.97695596e-01  6.78490735e-02]\n",
      " [ 9.88771421e-01  1.49435860e-01]\n",
      " [ 9.66424877e-01  2.56949327e-01]\n",
      " [ 9.23879533e-01  3.82683432e-01]\n",
      " [ 8.56319051e-01  5.16447174e-01]\n",
      " [ 7.62711009e-01  6.46739451e-01]\n",
      " [ 6.46739451e-01  7.62711009e-01]\n",
      " [ 5.16447174e-01  8.56319051e-01]\n",
      " [ 3.82683432e-01  9.23879533e-01]\n",
      " [ 2.56949327e-01  9.66424877e-01]\n",
      " [ 1.49435860e-01  9.88771421e-01]\n",
      " [ 6.78490735e-02  9.97695596e-01]\n",
      " [ 1.71619917e-02  9.99852722e-01]\n",
      " [ 5.42814666e-14  1.00000000e+00]]\n"
     ]
    }
   ],
   "source": [
    "# Testing the normal vector calculation\n",
    "mg.cal_normal_vector_nodes()\n",
    "print(\"Lower normal vectors\\n\", mg.norm_vect_lower)\n",
    "print(\"Upper normal vectors\\n\", mg.norm_vect_upper)\n",
    "print(\"Left normal vectors\\n\", mg.norm_vect_left)\n",
    "print(\"Right normal vectors\\n\", mg.norm_vect_right)"
   ]
  },
  {
   "cell_type": "code",
   "execution_count": 54,
   "id": "c851d762",
   "metadata": {},
   "outputs": [
    {
     "data": {
      "image/png": "[encoded data removed]",
      "text/plain": [
       "<Figure size 640x480 with 1 Axes>"
      ]
     },
     "metadata": {},
     "output_type": "display_data"
    }
   ],
   "source": [
    "fig, ax = plt.subplots(nrows=1, ncols=1)\n",
    "Nx = mg.nodal2D.Nx\n",
    "Ny = mg.nodal2D.Ny\n",
    "\n",
    "ax.scatter(mg.nodes_phy_x, mg.nodes_phy_y)\n",
    "\n",
    "j = 0\n",
    "ax.quiver(mg.nodes_phy_x[:,j], mg.nodes_phy_y[:,j], \n",
    "              mg.norm_vect_lower[:,0], mg.norm_vect_lower[:,1])\n",
    "    \n",
    "j = Ny   \n",
    "ax.quiver(mg.nodes_phy_x[:,j], mg.nodes_phy_y[:,j], \n",
    "              mg.norm_vect_upper[:,0], mg.norm_vect_upper[:,1])    \n",
    "\n",
    "i = 0\n",
    "ax.quiver(mg.nodes_phy_x[i,:], mg.nodes_phy_y[i,:], \n",
    "              mg.norm_vect_left[:,0], mg.norm_vect_left[:,1])\n",
    "\n",
    "i = Nx\n",
    "ax.quiver(mg.nodes_phy_x[i,:], mg.nodes_phy_y[i,:], \n",
    "              mg.norm_vect_right[:,0], mg.norm_vect_right[:,1])   \n",
    "\n",
    "ax.set_aspect('equal')"
   ]
  }
 ],
 "metadata": {
  "kernelspec": {
   "display_name": "Python 3 (ipykernel)",
   "language": "python",
   "name": "python3"
  },
  "language_info": {
   "codemirror_mode": {
    "name": "ipython",
    "version": 3
   },
   "file_extension": ".py",
   "mimetype": "text/x-python",
   "name": "python",
   "nbconvert_exporter": "python",
   "pygments_lexer": "ipython3",
   "version": "3.9.13"
  }
 },
 "nbformat": 4,
 "nbformat_minor": 5
}
