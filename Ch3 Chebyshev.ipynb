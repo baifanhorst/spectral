{
 "cells": [
  {
   "cell_type": "code",
   "execution_count": 3,
   "id": "3fb340c5",
   "metadata": {},
   "outputs": [],
   "source": [
    "import numpy as np\n",
    "import matplotlib.pyplot as plt\n",
    "from scipy.special import eval_chebyt"
   ]
  },
  {
   "cell_type": "code",
   "execution_count": 12,
   "id": "73b88ce7",
   "metadata": {},
   "outputs": [],
   "source": [
    "def ChebyshevPolynomial_Recursion(n, x):\n",
    "    # Calculating the value of the nth order Chebyshev polynomial\n",
    "    # by recursion\n",
    "    \n",
    "    if n==0:\n",
    "        return 1\n",
    "    elif n==1:\n",
    "        return x\n",
    "    \n",
    "    T_k_minus_2 = 1\n",
    "    T_k_minus_1 = x\n",
    "    \n",
    "    for k in range(2, n+1):\n",
    "        T_k = 2 * x * T_k_minus_1 - T_k_minus_2\n",
    "        T_k_minus_2 = T_k_minus_1\n",
    "        T_k_minus_1 = T_k\n",
    "        \n",
    "    return T_k"
   ]
  },
  {
   "cell_type": "code",
   "execution_count": 11,
   "id": "9edba20e",
   "metadata": {},
   "outputs": [],
   "source": [
    "def ChebyshevPolynomial_InvTrig(n, x):\n",
    "    # Calculating the value of the nth order Chebyshev polynomial\n",
    "    # by inversing cosine\n",
    "    \n",
    "    theta = np.arccos(x)\n",
    "        \n",
    "    return np.cos(n * theta)"
   ]
  },
  {
   "cell_type": "code",
   "execution_count": 14,
   "id": "3bb38c33",
   "metadata": {},
   "outputs": [
    {
     "name": "stdout",
     "output_type": "stream",
     "text": [
      "0.21600000000000052\n",
      "0.2160000000000003\n",
      "0.21600000000000022\n"
     ]
    }
   ],
   "source": [
    "# Comparison of three ways of evaluating T_n(x)\n",
    "n = 3\n",
    "x = 0.9\n",
    "print(eval_chebyt(n, x))\n",
    "print(ChebyshevPolynomial_Recursion(n, x))\n",
    "print(ChebyshevPolynomial_InvTrig(n, x))"
   ]
  }
 ],
 "metadata": {
  "kernelspec": {
   "display_name": "Python 3 (ipykernel)",
   "language": "python",
   "name": "python3"
  },
  "language_info": {
   "codemirror_mode": {
    "name": "ipython",
    "version": 3
   },
   "file_extension": ".py",
   "mimetype": "text/x-python",
   "name": "python",
   "nbconvert_exporter": "python",
   "pygments_lexer": "ipython3",
   "version": "3.9.13"
  }
 },
 "nbformat": 4,
 "nbformat_minor": 5
}
