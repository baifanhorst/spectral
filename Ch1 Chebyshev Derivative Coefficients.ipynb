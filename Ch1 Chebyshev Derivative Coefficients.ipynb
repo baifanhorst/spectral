{
 "cells": [
  {
   "cell_type": "code",
   "execution_count": 1,
   "id": "95c939cb",
   "metadata": {},
   "outputs": [],
   "source": [
    "import numpy as np\n",
    "import matplotlib.pyplot as plt\n",
    "from scipy.fft import fft, ifft, dct\n",
    "from scipy.special import eval_chebyt"
   ]
  },
  {
   "cell_type": "code",
   "execution_count": 2,
   "id": "280dd00f",
   "metadata": {},
   "outputs": [],
   "source": [
    "def ChebDeriCoeff(f):\n",
    "    # Calculating the coefficients of the derivative \n",
    "    # of the truncated Chebyshev series\n",
    "    # f: coefficients of the truncated Chebyshev series\n",
    "    # fk: k=0,1,...,N\n",
    "    \n",
    "    N = len(f) - 1\n",
    "    if N<=2:\n",
    "        print(\"Too few input elements\")\n",
    "        return\n",
    "    \n",
    "    # Initialize the derivative coeffficients\n",
    "    F = np.zeros(N+1) # Fk: k=0,1,...,N\n",
    "    F[-1] = 0 # FN=0\n",
    "    F[-2] = 2*N*f[-1]\n",
    "    \n",
    "    # Solving other coefficients\n",
    "    for k in range(N-2, 0, -1):\n",
    "        F[k] = F[k+2] + 2 * (k+1) * f[k+1]\n",
    "    \n",
    "    F[0] = 0.5 * F[2] + f[1]\n",
    "    \n",
    "    return F"
   ]
  }
 ],
 "metadata": {
  "kernelspec": {
   "display_name": "Python 3 (ipykernel)",
   "language": "python",
   "name": "python3"
  },
  "language_info": {
   "codemirror_mode": {
    "name": "ipython",
    "version": 3
   },
   "file_extension": ".py",
   "mimetype": "text/x-python",
   "name": "python",
   "nbconvert_exporter": "python",
   "pygments_lexer": "ipython3",
   "version": "3.9.13"
  }
 },
 "nbformat": 4,
 "nbformat_minor": 5
}
