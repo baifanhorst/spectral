{
 "cells": [
  {
   "cell_type": "code",
   "execution_count": 101,
   "id": "73c5ec6f",
   "metadata": {},
   "outputs": [],
   "source": [
    "import numpy as np\n",
    "from numpy import pi, cos, sin, log, sqrt\n",
    "\n",
    "import matplotlib.pyplot as plt\n",
    "from matplotlib import cm\n",
    "\n",
    "# Reloading the module\n",
    "import importlib\n",
    "\n",
    "import Curve\n",
    "importlib.reload(Curve)\n",
    "from Curve import *\n",
    "\n",
    "import OrthogonalPolynomials\n",
    "importlib.reload(OrthogonalPolynomials)\n",
    "from OrthogonalPolynomials import *\n",
    "\n",
    "\n",
    "from scipy.interpolate import BarycentricInterpolator"
   ]
  },
  {
   "cell_type": "code",
   "execution_count": 102,
   "id": "e863baf7",
   "metadata": {
    "scrolled": true
   },
   "outputs": [
    {
     "name": "stdout",
     "output_type": "stream",
     "text": [
      "[-1.         -0.9825723  -0.9419763  -0.87929476 -0.79600193 -0.69405103\n",
      " -0.57583196 -0.44411578 -0.30198986 -0.15278552  0.          0.15278552\n",
      "  0.30198986  0.44411578  0.57583196  0.69405103  0.79600193  0.87929476\n",
      "  0.9419763   0.9825723   1.        ]\n"
     ]
    }
   ],
   "source": [
    "# Testing the Legendre Gauss Lobatto points calculation\n",
    "N = 20\n",
    "x = LegendreGaussLobattoNodes(N)\n",
    "#x = np.linspace(-1,1,N+1)\n",
    "print(x)"
   ]
  },
  {
   "cell_type": "code",
   "execution_count": 103,
   "id": "fa2c19da",
   "metadata": {
    "scrolled": true
   },
   "outputs": [
    {
     "name": "stdout",
     "output_type": "stream",
     "text": [
      "Normalized barycentric weights (mine):\n",
      " [ 0.17619705 -0.43620129  0.58137193 -0.691167    0.77860256 -0.84883444\n",
      "  0.904394   -0.94666     0.97642011 -0.99412292  1.         -0.99412292\n",
      "  0.97642011 -0.94666     0.904394   -0.84883444  0.77860256 -0.691167\n",
      "  0.58137193 -0.43620129  0.17619705]\n",
      "Normalized barycentric weights (scipy):\n",
      " [ 0.17619705 -0.43620129  0.58137193 -0.691167    0.77860256 -0.84883444\n",
      "  0.904394   -0.94666     0.97642011 -0.99412292  1.         -0.99412292\n",
      "  0.97642011 -0.94666     0.904394   -0.84883444  0.77860256 -0.691167\n",
      "  0.58137193 -0.43620129  0.17619705]\n",
      "Difference:\n",
      " [ 5.55111512e-17  0.00000000e+00  1.11022302e-16 -1.11022302e-16\n",
      "  0.00000000e+00 -1.11022302e-16  0.00000000e+00  4.44089210e-16\n",
      "  0.00000000e+00  0.00000000e+00  0.00000000e+00 -2.22044605e-16\n",
      "  0.00000000e+00 -2.22044605e-16  0.00000000e+00 -2.22044605e-16\n",
      "  2.22044605e-16  1.11022302e-16  0.00000000e+00  0.00000000e+00\n",
      "  2.77555756e-17]\n"
     ]
    }
   ],
   "source": [
    "# Testing the barycentric interpolation \n",
    "# Comparing with scipy implementation\n",
    "w_bary = BarycentricWeights(x)\n",
    "\n",
    "y = np.sin(x)\n",
    "P = BarycentricInterpolator(x, y)\n",
    "w_bary_norm_scipy = P.wi / np.linalg.norm(P.wi, np.inf)\n",
    "print(\"Normalized barycentric weights (mine):\\n\", w_bary)\n",
    "print(\"Normalized barycentric weights (scipy):\\n\", w_bary_norm_scipy)\n",
    "print(\"Difference:\\n\", w_bary - w_bary_norm_scipy)"
   ]
  },
  {
   "cell_type": "code",
   "execution_count": 112,
   "id": "61aa8dbb",
   "metadata": {},
   "outputs": [
    {
     "name": "stdout",
     "output_type": "stream",
     "text": [
      "Difference:\n",
      " [-8.43769499e-15  7.77156117e-15  9.21485110e-15  1.22124533e-15\n",
      "  1.66533454e-15 -1.99840144e-15  7.77156117e-16 -2.10942375e-15\n",
      "  1.66533454e-15 -1.22124533e-15  8.88178420e-16 -7.77156117e-16\n",
      "  1.66533454e-15 -2.55351296e-15  2.55351296e-15 -2.88657986e-15\n",
      " -1.11022302e-16 -1.44328993e-15  3.88578059e-15  6.66133815e-16\n",
      " -1.33226763e-15]\n",
      "Difference:\n",
      " [-2.13162821e-14 -6.43929354e-15 -8.65973959e-15  2.22044605e-15\n",
      "  0.00000000e+00  3.55271368e-15 -2.22044605e-15  1.11022302e-15\n",
      " -1.11022302e-15  3.88578059e-16 -6.38378239e-16  4.44089210e-16\n",
      " -1.11022302e-16  2.22044605e-16  6.66133815e-16 -8.88178420e-16\n",
      " -4.44089210e-16  4.44089210e-16  1.55431223e-15  2.88657986e-15\n",
      "  2.84217094e-14]\n",
      "Difference:\n",
      " [ 3.99680289e-15 -7.21644966e-15  2.05391260e-15 -4.21884749e-15\n",
      "  2.66453526e-15 -2.38697950e-15  3.44169138e-15 -1.55431223e-15\n",
      "  3.33066907e-16 -2.55351296e-15  1.77635684e-15 -2.22044605e-16\n",
      "  2.22044605e-15  2.22044605e-16  1.11022302e-15  4.44089210e-16\n",
      "  1.33226763e-15 -8.88178420e-16  6.66133815e-15  3.99680289e-15\n",
      " -1.82076576e-14]\n",
      "Difference:\n",
      " [-6.91113833e-15  3.58046925e-15  2.55351296e-15 -9.43689571e-16\n",
      "  3.33066907e-16 -8.88178420e-16  0.00000000e+00  0.00000000e+00\n",
      "  1.88737914e-15 -1.55431223e-15  4.44089210e-16 -1.77635684e-15\n",
      "  1.11022302e-15 -1.33226763e-15  2.66453526e-15 -7.99360578e-15\n",
      "  8.88178420e-16 -3.10862447e-15  1.24344979e-14  0.00000000e+00\n",
      " -7.77156117e-14]\n"
     ]
    }
   ],
   "source": [
    "# Testing the differentiation matrix\n",
    "D = PolynomialDiffMatrix(x, w_bary)\n",
    "y = np.sin(x)\n",
    "y_deri_th = np.cos(x)\n",
    "y_deri = np.dot(D, y)\n",
    "print('Difference:\\n', y_deri - y_deri_th)\n",
    "\n",
    "y = x**2\n",
    "y_deri_th = 2 * x\n",
    "y_deri = np.dot(D, y)\n",
    "print('Difference:\\n', y_deri - y_deri_th)\n",
    "\n",
    "y = np.exp(x)\n",
    "y_deri_th = np.exp(x)\n",
    "y_deri = np.dot(D, y)\n",
    "print('Difference:\\n', y_deri - y_deri_th)\n",
    "\n",
    "y = np.exp(x) * np.sin(x)\n",
    "y_deri_th = np.exp(x) * np.sin(x) + np.exp(x) * np.cos(x)\n",
    "y_deri = np.dot(D, y)\n",
    "print('Difference:\\n', y_deri - y_deri_th)"
   ]
  }
 ],
 "metadata": {
  "kernelspec": {
   "display_name": "Python 3 (ipykernel)",
   "language": "python",
   "name": "python3"
  },
  "language_info": {
   "codemirror_mode": {
    "name": "ipython",
    "version": 3
   },
   "file_extension": ".py",
   "mimetype": "text/x-python",
   "name": "python",
   "nbconvert_exporter": "python",
   "pygments_lexer": "ipython3",
   "version": "3.9.13"
  }
 },
 "nbformat": 4,
 "nbformat_minor": 5
}
