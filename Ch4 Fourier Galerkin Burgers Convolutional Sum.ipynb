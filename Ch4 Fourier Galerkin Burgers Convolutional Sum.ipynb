{
 "cells": [
  {
   "cell_type": "code",
   "execution_count": 48,
   "id": "526220f4",
   "metadata": {},
   "outputs": [],
   "source": [
    "import numpy as np\n",
    "import matplotlib.pyplot as plt\n",
    "from scipy.integrate import solve_ivp\n",
    "\n",
    "import FourierGalerkin_Burgers\n",
    "# Reloading the module\n",
    "import importlib\n",
    "importlib.reload(FourierGalerkin_Burgers)\n",
    "from FourierGalerkin_Burgers import *"
   ]
  },
  {
   "cell_type": "code",
   "execution_count": 53,
   "id": "5a0e4315",
   "metadata": {
    "scrolled": false
   },
   "outputs": [
    {
     "name": "stdout",
     "output_type": "stream",
     "text": [
      "V:  [1 2 3 4 5]\n",
      "W:  [1. 1. 1. 1. 1.]\n",
      "Conv Sum of VW\n",
      " [ 6. 10. 15. 14. 12.]\n",
      "Conv Sum of WV\n",
      " [ 6. 10. 15. 14. 12.]\n",
      "Conv Sum of VW by DFT\n",
      " [ 6.+0.j 10.+0.j 15.+0.j 14.+0.j 12.+0.j]\n",
      "Conv Sum of WV by DFT\n",
      " [ 6.+0.j 10.+0.j 15.+0.j 14.+0.j 12.+0.j]\n"
     ]
    }
   ],
   "source": [
    "# Testing Direct convolutionalsum\n",
    "N = 4\n",
    "V = np.arange(1, 5+1)\n",
    "W = np.ones(5)\n",
    "print(\"V: \", V)\n",
    "print(\"W: \", W)\n",
    "print('Conv Sum of VW\\n', CalConvSum_Direct(V,W))\n",
    "print('Conv Sum of WV\\n', CalConvSum_Direct(W,V))\n",
    "print('Conv Sum of VW by DFT\\n', CalConvSum_DFT(V,W))\n",
    "print('Conv Sum of WV by DFT\\n', CalConvSum_DFT(W,V))"
   ]
  },
  {
   "cell_type": "code",
   "execution_count": 54,
   "id": "b49a2d72",
   "metadata": {
    "scrolled": true
   },
   "outputs": [
    {
     "name": "stdout",
     "output_type": "stream",
     "text": [
      "Conv Sum of VW\n",
      " [0.57372223 1.0806801  1.4935707  1.68482379 1.31282583]\n",
      "Conv Sum of WV\n",
      " [0.57372223 1.0806801  1.4935707  1.68482379 1.31282583]\n",
      "Conv Sum of VW by DFT\n",
      " [0.57372223+0.j 1.0806801 +0.j 1.4935707 +0.j 1.68482379+0.j\n",
      " 1.31282583+0.j]\n",
      "Conv Sum of WV by DFT\n",
      " [0.57372223+0.j 1.0806801 +0.j 1.4935707 +0.j 1.68482379+0.j\n",
      " 1.31282583+0.j]\n"
     ]
    }
   ],
   "source": [
    "N = 4\n",
    "V = np.random.rand(5)\n",
    "W = np.random.rand(5)\n",
    "print('Conv Sum of VW\\n', CalConvSum_Direct(V,W))\n",
    "print('Conv Sum of WV\\n', CalConvSum_Direct(W,V))\n",
    "print('Conv Sum of VW by DFT\\n', CalConvSum_DFT(V,W))\n",
    "print('Conv Sum of WV by DFT\\n', CalConvSum_DFT(W,V))"
   ]
  },
  {
   "cell_type": "code",
   "execution_count": null,
   "id": "de961f1b",
   "metadata": {},
   "outputs": [],
   "source": []
  },
  {
   "cell_type": "code",
   "execution_count": null,
   "id": "ceb2b707",
   "metadata": {},
   "outputs": [],
   "source": []
  }
 ],
 "metadata": {
  "kernelspec": {
   "display_name": "Python 3 (ipykernel)",
   "language": "python",
   "name": "python3"
  },
  "language_info": {
   "codemirror_mode": {
    "name": "ipython",
    "version": 3
   },
   "file_extension": ".py",
   "mimetype": "text/x-python",
   "name": "python",
   "nbconvert_exporter": "python",
   "pygments_lexer": "ipython3",
   "version": "3.9.13"
  }
 },
 "nbformat": 4,
 "nbformat_minor": 5
}
