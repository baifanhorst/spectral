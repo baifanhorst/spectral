{
 "cells": [
  {
   "cell_type": "code",
   "execution_count": 1,
   "id": "2333d15f",
   "metadata": {},
   "outputs": [],
   "source": [
    "import numpy as np\n",
    "import matplotlib.pyplot as plt\n",
    "import pandas as pd\n",
    "from scipy.fft import fft, ifft"
   ]
  },
  {
   "cell_type": "code",
   "execution_count": 2,
   "id": "768db828",
   "metadata": {},
   "outputs": [],
   "source": [
    "def DFT_real(x):\n",
    "    # David's version of real DFT\n",
    "    # The input x must be real\n",
    "    \n",
    "    N = len(x)\n",
    "    \n",
    "    if N%2 != 0:\n",
    "        print('Please use even length')\n",
    "        return\n",
    "    \n",
    "    M = N//2\n",
    "    \n",
    "    X = fft(x) / N\n",
    "    \n",
    "    a = 2 * np.real(X[:M+1])\n",
    "    b = -2 * np.imag(X[:M+1])\n",
    "    \n",
    "    return a, b"
   ]
  },
  {
   "cell_type": "code",
   "execution_count": 3,
   "id": "dd1eeabb",
   "metadata": {},
   "outputs": [],
   "source": [
    "u = np.array([1,2,3,4,5,6])\n",
    "a, b = DFT_real(u)"
   ]
  },
  {
   "cell_type": "code",
   "execution_count": 8,
   "id": "19ad552c",
   "metadata": {},
   "outputs": [],
   "source": [
    "def DFT_inv_real(a, b):\n",
    "    # Inverse real DFT in David's book\n",
    "    # The input a and b must be of the same length\n",
    "    # a_k, k=0,1,...,N/2 \n",
    "    M = len(a)-1 # M=N/2\n",
    "    \n",
    "    # Inverse real DFT\n",
    "    X = a/2 - 1j * b/2  # k=0,1,...,N/2\n",
    "    \n",
    "    # Get X_k, k=N/2+1, ... , N-1\n",
    "    # X_{N-k} = X_k^*\n",
    "    X = np.concatenate((X, np.conj(X[M-1:0:-1])))\n",
    "    \n",
    "    # Inverse complex DFT\n",
    "    x = ifft(X) * (2*M)\n",
    "    \n",
    "    return x"
   ]
  },
  {
   "cell_type": "code",
   "execution_count": 9,
   "id": "e235574d",
   "metadata": {},
   "outputs": [
    {
     "name": "stdout",
     "output_type": "stream",
     "text": [
      "inverse real DFT\n",
      " [1.+0.j 2.+0.j 3.+0.j 4.+0.j 5.+0.j 6.+0.j]\n"
     ]
    }
   ],
   "source": [
    "x_inv_real = DFT_inv_real(a, b)\n",
    "print(\"inverse real DFT\\n\", x_inv_real)"
   ]
  }
 ],
 "metadata": {
  "kernelspec": {
   "display_name": "Python 3 (ipykernel)",
   "language": "python",
   "name": "python3"
  },
  "language_info": {
   "codemirror_mode": {
    "name": "ipython",
    "version": 3
   },
   "file_extension": ".py",
   "mimetype": "text/x-python",
   "name": "python",
   "nbconvert_exporter": "python",
   "pygments_lexer": "ipython3",
   "version": "3.9.13"
  }
 },
 "nbformat": 4,
 "nbformat_minor": 5
}
