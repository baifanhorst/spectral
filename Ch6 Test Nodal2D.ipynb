{
 "cells": [
  {
   "cell_type": "code",
   "execution_count": 2,
   "id": "e6010568",
   "metadata": {},
   "outputs": [],
   "source": [
    "import numpy as np\n",
    "\n",
    "# Reloading the module\n",
    "import importlib\n",
    "\n",
    "import Nodal2D\n",
    "importlib.reload(Nodal2D)\n",
    "from Nodal2D import *"
   ]
  },
  {
   "cell_type": "code",
   "execution_count": 5,
   "id": "19f59c62",
   "metadata": {},
   "outputs": [],
   "source": [
    "N = 10\n",
    "M = 5\n",
    "nodal2D = Nodal2D(N,M)\n",
    "nodal2D.cal_nodes(node_type_x=\"Legendre\", node_type_y=\"Chebyshev\")"
   ]
  },
  {
   "cell_type": "code",
   "execution_count": 7,
   "id": "8d78b261",
   "metadata": {
    "scrolled": false
   },
   "outputs": [
    {
     "data": {
      "text/plain": [
       "array([-1.        , -0.80901699, -0.30901699,  0.30901699,  0.80901699,\n",
       "        1.        ])"
      ]
     },
     "execution_count": 7,
     "metadata": {},
     "output_type": "execute_result"
    }
   ],
   "source": [
    "nodal2D.nodes_y"
   ]
  }
 ],
 "metadata": {
  "kernelspec": {
   "display_name": "Python 3 (ipykernel)",
   "language": "python",
   "name": "python3"
  },
  "language_info": {
   "codemirror_mode": {
    "name": "ipython",
    "version": 3
   },
   "file_extension": ".py",
   "mimetype": "text/x-python",
   "name": "python",
   "nbconvert_exporter": "python",
   "pygments_lexer": "ipython3",
   "version": "3.9.13"
  }
 },
 "nbformat": 4,
 "nbformat_minor": 5
}
