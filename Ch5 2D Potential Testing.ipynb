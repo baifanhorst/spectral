{
 "cells": [
  {
   "cell_type": "code",
   "execution_count": 1,
   "id": "a9824c51",
   "metadata": {},
   "outputs": [],
   "source": [
    "import numpy as np\n",
    "import matplotlib.pyplot as plt\n",
    "from scipy.integrate import solve_ivp\n",
    "\n",
    "# Reloading the module\n",
    "import importlib\n",
    "\n",
    "import OrthogonalPolynomials\n",
    "importlib.reload(OrthogonalPolynomials)\n",
    "from OrthogonalPolynomials import *\n",
    "\n",
    "import GeneralFunctionality\n",
    "importlib.reload(GeneralFunctionality)\n",
    "from GeneralFunctionality import *\n",
    "\n",
    "import Potential2D\n",
    "importlib.reload(Potential2D)\n",
    "from Potential2D import *\n",
    "\n",
    "from scipy.special import eval_legendre, roots_legendre\n",
    "from scipy import integrate"
   ]
  },
  {
   "cell_type": "code",
   "execution_count": 2,
   "id": "28399e05",
   "metadata": {
    "scrolled": true
   },
   "outputs": [
    {
     "name": "stdout",
     "output_type": "stream",
     "text": [
      "[['00' '01']\n",
      " ['10' '11']\n",
      " ['20' '21']\n",
      " ['30' '31']]\n",
      "['00' '01' '10' '11' '20' '21' '30' '31']\n",
      "[['00' '01']\n",
      " ['10' '11']\n",
      " ['20' '21']\n",
      " ['30' '31']]\n"
     ]
    }
   ],
   "source": [
    "# Testing the index maps\n",
    "N = 4\n",
    "M = 2\n",
    "A = np.empty((N,M), dtype=object)\n",
    "for i in range(N):\n",
    "    for j in range(M):\n",
    "        A[i,j] = str(i)+str(j)\n",
    "        \n",
    "print(A)\n",
    "\n",
    "A_1D = np.empty((N*M), dtype=object)\n",
    "for i in range(N):\n",
    "    for j in range(M):\n",
    "        n = index_2D_to_1D(i,j,M)\n",
    "        A_1D[n] = A[i,j]\n",
    "        \n",
    "print(A_1D)\n",
    "\n",
    "B = np.empty((N,M), dtype=object)\n",
    "for n in range(N*M):\n",
    "    i,j = index_1D_to_2D(n,M)\n",
    "    B[i,j] = A_1D[n]\n",
    "    \n",
    "print(B)        "
   ]
  },
  {
   "cell_type": "code",
   "execution_count": 3,
   "id": "bca52d0a",
   "metadata": {
    "scrolled": false
   },
   "outputs": [
    {
     "name": "stdout",
     "output_type": "stream",
     "text": [
      "Solution:\n",
      " [[ 5. -7.  5.]\n",
      " [-7. 17. -7.]\n",
      " [ 5. -7.  5.]]\n",
      "S:\n",
      " [[12. 15. 18.]\n",
      " [21. 24. 27.]\n",
      " [30. 33. 36.]]\n",
      "RHS:\n",
      " [[12. 15. 18.]\n",
      " [21. 24. 27.]\n",
      " [30. 33. 36.]]\n",
      "RHS U0:\n",
      " [[12. 15. 18.]\n",
      " [21. 24. 27.]\n",
      " [30. 33. 36.]]\n"
     ]
    }
   ],
   "source": [
    "# Testing the matrix equation solver\n",
    "N = 3\n",
    "M = 3\n",
    "A = np.arange(N*N).reshape(N,N)\n",
    "B = np.arange(M*M).reshape(M,M)\n",
    "#B = np.zeros(M*M).reshape(M,M)\n",
    "U0 = np.ones((N,M))\n",
    "S = np.dot(A, U0) + np.dot(U0, B)\n",
    "U = MatEqnSolver(A, B, S, N, M)\n",
    "print(\"Solution:\\n\", U)\n",
    "print(\"S:\\n\", S)\n",
    "print(\"RHS:\\n\", np.dot(A, U) + np.dot(U, B))\n",
    "print(\"RHS U0:\\n\", np.dot(A, U) + np.dot(U, B))"
   ]
  },
  {
   "cell_type": "code",
   "execution_count": 4,
   "id": "a777d851",
   "metadata": {
    "scrolled": true
   },
   "outputs": [
    {
     "name": "stdout",
     "output_type": "stream",
     "text": [
      "Solution:\n",
      " [[1. 1. 1. 1. 1. 1. 1.]\n",
      " [1. 1. 1. 1. 1. 1. 1.]\n",
      " [1. 1. 1. 1. 1. 1. 1.]\n",
      " [1. 1. 1. 1. 1. 1. 1.]]\n",
      "S:\n",
      " [[5.45771974 5.37253723 6.14951733 5.32863458 4.93323882 4.66990582\n",
      "  5.5604789 ]\n",
      " [4.91708263 4.83190012 5.60888021 4.78799747 4.39260171 4.12926871\n",
      "  5.01984179]\n",
      " [5.71671652 5.63153401 6.40851411 5.58763136 5.1922356  4.92890261\n",
      "  5.81947569]\n",
      " [6.37535375 6.29017124 7.06715134 6.2462686  5.85087283 5.58753984\n",
      "  6.47811292]]\n",
      "RHS:\n",
      " [[5.45771974 5.37253723 6.14951733 5.32863458 4.93323882 4.66990582\n",
      "  5.5604789 ]\n",
      " [4.91708263 4.83190012 5.60888021 4.78799747 4.39260171 4.12926871\n",
      "  5.01984179]\n",
      " [5.71671652 5.63153401 6.40851411 5.58763136 5.1922356  4.92890261\n",
      "  5.81947569]\n",
      " [6.37535375 6.29017124 7.06715134 6.2462686  5.85087283 5.58753984\n",
      "  6.47811292]]\n",
      "RHS U0:\n",
      " [[5.45771974 5.37253723 6.14951733 5.32863458 4.93323882 4.66990582\n",
      "  5.5604789 ]\n",
      " [4.91708263 4.83190012 5.60888021 4.78799747 4.39260171 4.12926871\n",
      "  5.01984179]\n",
      " [5.71671652 5.63153401 6.40851411 5.58763136 5.1922356  4.92890261\n",
      "  5.81947569]\n",
      " [6.37535375 6.29017124 7.06715134 6.2462686  5.85087283 5.58753984\n",
      "  6.47811292]]\n"
     ]
    }
   ],
   "source": [
    "# Testing the matrix equation solver\n",
    "N = 4\n",
    "M = 7\n",
    "A = np.random.rand(N,N)\n",
    "B = np.random.rand(M,M)\n",
    "U0 = np.ones((N,M))\n",
    "S = np.dot(A, U0) + np.dot(U0, B)\n",
    "U = MatEqnSolver(A, B, S, N, M)\n",
    "print(\"Solution:\\n\", U)\n",
    "print(\"S:\\n\", S)\n",
    "print(\"RHS:\\n\", np.dot(A, U) + np.dot(U, B))\n",
    "print(\"RHS U0:\\n\", np.dot(A, U) + np.dot(U, B))"
   ]
  },
  {
   "cell_type": "code",
   "execution_count": 5,
   "id": "660dbb43",
   "metadata": {
    "scrolled": true
   },
   "outputs": [
    {
     "name": "stdout",
     "output_type": "stream",
     "text": [
      "A\n",
      " [[1 2 3]\n",
      " [4 5 6]]\n",
      "B\n",
      " [[1. 0.]\n",
      " [0. 1.]]\n",
      "$A \\otimes B$ \n",
      " [[1. 0. 2. 0. 3. 0.]\n",
      " [0. 1. 0. 2. 0. 3.]\n",
      " [4. 0. 5. 0. 6. 0.]\n",
      " [0. 4. 0. 5. 0. 6.]]\n"
     ]
    }
   ],
   "source": [
    "# Testing the Kronecker product\n",
    "A = np.arange(1,6+1).reshape(2,3)\n",
    "B = np.identity(2)\n",
    "print(\"A\\n\", A)\n",
    "print(\"B\\n\", B)\n",
    "print(r\"$A \\otimes B$\", '\\n', np.kron(A, B))"
   ]
  },
  {
   "cell_type": "code",
   "execution_count": 6,
   "id": "5137ab91",
   "metadata": {
    "scrolled": true
   },
   "outputs": [
    {
     "data": {
      "text/plain": [
       "array([1, 2, 3, 4, 5, 6])"
      ]
     },
     "execution_count": 6,
     "metadata": {},
     "output_type": "execute_result"
    }
   ],
   "source": [
    "# Testing reshape\n",
    "A.reshape(6)"
   ]
  },
  {
   "cell_type": "code",
   "execution_count": 7,
   "id": "2886646e",
   "metadata": {
    "scrolled": false
   },
   "outputs": [
    {
     "name": "stdout",
     "output_type": "stream",
     "text": [
      "Solution:\n",
      " [[1. 1. 1. 1. 1. 1. 1.]\n",
      " [1. 1. 1. 1. 1. 1. 1.]\n",
      " [1. 1. 1. 1. 1. 1. 1.]\n",
      " [1. 1. 1. 1. 1. 1. 1.]]\n",
      "S:\n",
      " [[4.64508153 5.2015223  5.75256153 6.05378568 5.44407085 6.35098232\n",
      "  5.39247433]\n",
      " [4.67513611 5.23157688 5.78261611 6.08384026 5.47412543 6.3810369\n",
      "  5.42252891]\n",
      " [5.24110017 5.79754094 6.34858017 6.64980433 6.0400895  6.94700097\n",
      "  5.98849297]\n",
      " [5.11419321 5.67063398 6.22167321 6.52289737 5.91318253 6.820094\n",
      "  5.86158601]]\n",
      "RHS:\n",
      " [[4.64508153 5.2015223  5.75256153 6.05378568 5.44407085 6.35098232\n",
      "  5.39247433]\n",
      " [4.67513611 5.23157688 5.78261611 6.08384026 5.47412543 6.3810369\n",
      "  5.42252891]\n",
      " [5.24110017 5.79754094 6.34858017 6.64980433 6.0400895  6.94700097\n",
      "  5.98849297]\n",
      " [5.11419321 5.67063398 6.22167321 6.52289737 5.91318253 6.820094\n",
      "  5.86158601]]\n",
      "RHS U0:\n",
      " [[4.64508153 5.2015223  5.75256153 6.05378568 5.44407085 6.35098232\n",
      "  5.39247433]\n",
      " [4.67513611 5.23157688 5.78261611 6.08384026 5.47412543 6.3810369\n",
      "  5.42252891]\n",
      " [5.24110017 5.79754094 6.34858017 6.64980433 6.0400895  6.94700097\n",
      "  5.98849297]\n",
      " [5.11419321 5.67063398 6.22167321 6.52289737 5.91318253 6.820094\n",
      "  5.86158601]]\n"
     ]
    }
   ],
   "source": [
    "# Testing the matrix equation solver\n",
    "N = 4\n",
    "M = 7\n",
    "A = np.random.rand(N,N)\n",
    "B = np.random.rand(M,M)\n",
    "U0 = np.ones((N,M))\n",
    "S = np.dot(A, U0) + np.dot(U0, B)\n",
    "U = MatEqnSolver(A, B, S, N, M, Converter=MatEqnConverter2)\n",
    "print(\"Solution:\\n\", U)\n",
    "print(\"S:\\n\", S)\n",
    "print(\"RHS:\\n\", np.dot(A, U) + np.dot(U, B))\n",
    "print(\"RHS U0:\\n\", np.dot(A, U) + np.dot(U, B))"
   ]
  },
  {
   "cell_type": "code",
   "execution_count": 89,
   "id": "3a904bc7",
   "metadata": {},
   "outputs": [
    {
     "name": "stdout",
     "output_type": "stream",
     "text": [
      "Error\n",
      " 6.750155989720952e-14\n"
     ]
    }
   ],
   "source": [
    "# Testing the Nodal Galerkin solver\n",
    "N = 10\n",
    "M = 8\n",
    "U = np.random.rand(N,M)\n",
    "E = np.random.rand(N,M) * 1\n",
    "F = np.random.rand(N,M) * 2\n",
    "A = np.random.rand(N,N) * 3\n",
    "B = np.random.rand(M,M) * 4\n",
    "S = np.matmul(A, U) * E + np.matmul(U, B) * F\n",
    "U_sol = MatEqnSolver_NodalGalerkin(A, B, S, E, F, N, M)\n",
    "print(\"Error\\n\", np.max(U - U_sol))"
   ]
  },
  {
   "cell_type": "code",
   "execution_count": null,
   "id": "aca6e58a",
   "metadata": {},
   "outputs": [],
   "source": []
  }
 ],
 "metadata": {
  "kernelspec": {
   "display_name": "Python 3 (ipykernel)",
   "language": "python",
   "name": "python3"
  },
  "language_info": {
   "codemirror_mode": {
    "name": "ipython",
    "version": 3
   },
   "file_extension": ".py",
   "mimetype": "text/x-python",
   "name": "python",
   "nbconvert_exporter": "python",
   "pygments_lexer": "ipython3",
   "version": "3.9.13"
  }
 },
 "nbformat": 4,
 "nbformat_minor": 5
}
