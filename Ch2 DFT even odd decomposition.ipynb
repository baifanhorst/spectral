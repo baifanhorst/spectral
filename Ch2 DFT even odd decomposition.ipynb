{
 "cells": [
  {
   "cell_type": "code",
   "execution_count": 2,
   "id": "c2db31a2",
   "metadata": {},
   "outputs": [],
   "source": [
    "import numpy as np\n",
    "import matplotlib.pyplot as plt\n",
    "import pandas as pd\n",
    "from scipy.fft import fft, ifft"
   ]
  },
  {
   "cell_type": "code",
   "execution_count": 6,
   "id": "9306fc0d",
   "metadata": {},
   "outputs": [],
   "source": [
    "def DFT_EvenOdd(u):\n",
    "    # DFT of a single real sequence by even-odd decomposition\n",
    "    # Note: no check on whether the input is real\n",
    "    \n",
    "    # Length of the input vector\n",
    "    N = len(u)\n",
    "    M = N//2\n",
    "    \n",
    "    # Only allow even length\n",
    "    if N%2 == 1:\n",
    "        print('Please use an even length')\n",
    "        return\n",
    "    \n",
    "    # Extract even and odd sequences\n",
    "    e = u[::2]\n",
    "    o = u[1::2]\n",
    "    \n",
    "    # Construction of the complex sequence\n",
    "    z = e + 1j * o\n",
    "    \n",
    "    # DFT\n",
    "    Z = fft(z)\n",
    "    \n",
    "    # Add Z_M to the end of Z\n",
    "    Z_ = np.concatenate((Z, Z[:1]))\n",
    "    # Reverse Z_ and take conjugate\n",
    "    Z_rev_conj = np.conjugate(Z_[::-1])\n",
    "    \n",
    "    # Extract DFT for e and o\n",
    "    E = 0.5 * (Z_ + Z_rev_conj)\n",
    "    O = -0.5j * (Z_ - Z_rev_conj)\n",
    "    \n",
    "    \n",
    "    # Calculate F0,...F_M\n",
    "    K = np.arange(0, M+1)\n",
    "    F = (E + np.exp(-1j * np.pi / M * K) * O)\n",
    "    \n",
    "    # Obtain F_{M+1}, ..., F_{N-1}\n",
    "    F = np.concatenate((F, np.conjugate(F[M-1:0:-1])))\n",
    "    \n",
    "    return F\n",
    "    "
   ]
  },
  {
   "cell_type": "code",
   "execution_count": 7,
   "id": "681d0690",
   "metadata": {
    "scrolled": false
   },
   "outputs": [
    {
     "name": "stdout",
     "output_type": "stream",
     "text": [
      "Even-odd decomposition\n",
      " [22.+0.00000000e+00j -5.-5.19615242e+00j -2.+3.46410162e+00j\n",
      " -2.-1.46957616e-15j -2.-3.46410162e+00j -5.+5.19615242e+00j]\n",
      "Scipy fft\n",
      " [22.-0.j         -5.-5.19615242j -2.+3.46410162j -2.-0.j\n",
      " -2.-3.46410162j -5.+5.19615242j]\n"
     ]
    }
   ],
   "source": [
    "u = np.array([1, 4, 7, 5, 2, 3])\n",
    "U_even_odd = DFT_EvenOdd(u)\n",
    "U_scipy = fft(u)\n",
    "print(\"Even-odd decomposition\\n\", U_even_odd)\n",
    "print(\"Scipy fft\\n\", U_scipy)"
   ]
  },
  {
   "cell_type": "code",
   "execution_count": 9,
   "id": "ec6d56b5",
   "metadata": {},
   "outputs": [],
   "source": [
    "def DFT_inv_EvenOdd(F):\n",
    "    # Inverse DFT by even-odd decomposition\n",
    "    # The input must be DFT of a real sequence, but this is not checked\n",
    "    \n",
    "    # Length of the input vector\n",
    "    N = len(F)\n",
    "    M = N//2\n",
    "    \n",
    "    # Only allow even length\n",
    "    if N%2 == 1:\n",
    "        print('Please use an even length')\n",
    "        return\n",
    "    \n",
    "    # Extract E\n",
    "    F_half_rev_conj = np.conjugate(F[M::-1])\n",
    "    E = 0.5 * (F[:M+1] + F_half_rev_conj)\n",
    "    E = E[:-1] # Drop the last entry\n",
    "    \n",
    "    # Extract O\n",
    "    K = np.arange(0, M+1)\n",
    "    O = 0.5 * np.exp(1j * K * np.pi/M) * (F[:M+1] - F_half_rev_conj)\n",
    "    O = O[:-1]\n",
    "    \n",
    "    # Construct Z\n",
    "    Z = E + 1j * O\n",
    "    z = ifft(Z)\n",
    "    \n",
    "    # Get f\n",
    "    f = np.empty(N, dtype=z.dtype)\n",
    "    f[:N-1:2] = np.real(z)\n",
    "    f[1::2] = np.imag(z)\n",
    "    \n",
    "    return f\n",
    "    \n",
    "    "
   ]
  },
  {
   "cell_type": "code",
   "execution_count": 10,
   "id": "68764766",
   "metadata": {
    "scrolled": true
   },
   "outputs": [
    {
     "name": "stdout",
     "output_type": "stream",
     "text": [
      "inverse DFT by even-odd decomposition\n",
      " [1.+0.j 4.+0.j 7.+0.j 5.+0.j 2.+0.j 3.+0.j]\n",
      "inverse DFT by scipy\n",
      " [1.+0.j 4.+0.j 7.+0.j 5.+0.j 2.-0.j 3.+0.j]\n"
     ]
    }
   ],
   "source": [
    "u_even_odd = DFT_inv_EvenOdd(U_even_odd)\n",
    "u_scipy = ifft(U_scipy)\n",
    "\n",
    "print(\"inverse DFT by even-odd decomposition\\n\", u_even_odd)\n",
    "print(\"inverse DFT by scipy\\n\", u_scipy)"
   ]
  },
  {
   "cell_type": "code",
   "execution_count": 13,
   "id": "9640a124",
   "metadata": {},
   "outputs": [],
   "source": [
    "def DFT_EvenOdd_ver2(u):\n",
    "    # DFT of a single real sequence by even-odd decomposition\n",
    "    # Note: no check on whether the input is real\n",
    "    \n",
    "    # Length of the input vector\n",
    "    N = len(u)\n",
    "    M = N//2\n",
    "    \n",
    "    # Only allow even length\n",
    "    if N%2 == 1:\n",
    "        print('Please use an even length')\n",
    "        return\n",
    "    \n",
    "    # Extract even and odd sequences\n",
    "    e = u[::2]\n",
    "    o = u[1::2]\n",
    "    \n",
    "    # Construction of the complex sequence\n",
    "    z = e + 1j * o\n",
    "    \n",
    "    # DFT\n",
    "    Z = fft(z)\n",
    "    \n",
    "    # Add Z_M to the end of Z\n",
    "    Z_ = np.concatenate((Z, Z[:1]))\n",
    "    # Reverse Z_ and take conjugate\n",
    "    Z_rev_conj = np.conjugate(Z_[::-1])\n",
    "    \n",
    "    # Extract DFT for e and o\n",
    "    E = 0.5 * (Z_ + Z_rev_conj)\n",
    "    O = -0.5j * (Z_ - Z_rev_conj)\n",
    "    \n",
    "    # Extend E and O\n",
    "    E = np.concatenate((E, E[1:-1]))\n",
    "    O = np.concatenate((O, O[1:-1]))\n",
    "    \n",
    "    # Calculate F\n",
    "    K = np.arange(0, N)\n",
    "    F = (E + np.exp(-1j * np.pi / M * K) * O)\n",
    "    \n",
    "    return F   "
   ]
  },
  {
   "cell_type": "code",
   "execution_count": 14,
   "id": "036c6615",
   "metadata": {},
   "outputs": [
    {
     "name": "stdout",
     "output_type": "stream",
     "text": [
      "Even-odd decomposition\n",
      " [22.+0.00000000e+00j -5.-5.19615242e+00j -2.+3.46410162e+00j\n",
      " -2.-1.46957616e-15j -2.-3.46410162e+00j -5.+5.19615242e+00j]\n",
      "Scipy fft\n",
      " [22.-0.j         -5.-5.19615242j -2.+3.46410162j -2.-0.j\n",
      " -2.-3.46410162j -5.+5.19615242j]\n"
     ]
    }
   ],
   "source": [
    "u = np.array([1, 4, 7, 5, 2, 3])\n",
    "U_even_odd = DFT_EvenOdd_ver2(u)\n",
    "U_scipy = fft(u)\n",
    "print(\"Even-odd decomposition\\n\", U_even_odd)\n",
    "print(\"Scipy fft\\n\", U_scipy)"
   ]
  }
 ],
 "metadata": {
  "kernelspec": {
   "display_name": "Python 3 (ipykernel)",
   "language": "python",
   "name": "python3"
  },
  "language_info": {
   "codemirror_mode": {
    "name": "ipython",
    "version": 3
   },
   "file_extension": ".py",
   "mimetype": "text/x-python",
   "name": "python",
   "nbconvert_exporter": "python",
   "pygments_lexer": "ipython3",
   "version": "3.9.13"
  }
 },
 "nbformat": 4,
 "nbformat_minor": 5
}
