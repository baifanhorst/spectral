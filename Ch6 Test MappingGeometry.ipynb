{
 "cells": [
  {
   "cell_type": "code",
   "execution_count": 93,
   "id": "cbe940cc",
   "metadata": {},
   "outputs": [],
   "source": [
    "import numpy as np\n",
    "from numpy import pi, cos, sin\n",
    "\n",
    "import matplotlib.pyplot as plt\n",
    "\n",
    "# Reloading the module\n",
    "import importlib\n",
    "\n",
    "import Nodal2D\n",
    "importlib.reload(Nodal2D)\n",
    "from Nodal2D import *\n",
    "\n",
    "import Curve\n",
    "importlib.reload(Curve)\n",
    "from Curve import *\n",
    "\n",
    "import MappingGeometry2D\n",
    "importlib.reload(MappingGeometry2D)\n",
    "from MappingGeometry2D import *"
   ]
  },
  {
   "cell_type": "markdown",
   "id": "04d743d6",
   "metadata": {},
   "source": [
    "## Boundary curves"
   ]
  },
  {
   "cell_type": "code",
   "execution_count": 94,
   "id": "107fc176",
   "metadata": {},
   "outputs": [],
   "source": [
    "# Inner and outer radius\n",
    "a = 1\n",
    "b = 2"
   ]
  },
  {
   "cell_type": "code",
   "execution_count": 95,
   "id": "405b1c01",
   "metadata": {},
   "outputs": [],
   "source": [
    "# Creating curve1\n",
    "# Create a curve class\n",
    "c1 = Curve2D(N=10)\n",
    "# Set boundary parameter points to be Legendre Gauss Lobbato points\n",
    "c1.set_parameter_points(point_type=\"Legendre\")\n",
    "c1.set_BarycentricWeights()\n",
    "c1.set_DiffMatrix()\n",
    "\n",
    "# Parameter range\n",
    "par_range = np.array([-1,1])\n",
    "x_start = a\n",
    "y_start = 0\n",
    "x_end = b\n",
    "y_end = 0\n",
    "\n",
    "\n",
    "def x(t):\n",
    "    return (x_start * (1-t) + x_end * (1+t))/2\n",
    "\n",
    "def y(t):\n",
    "    return (y_start * (1-t) + y_end * (1+t))/2\n",
    "\n",
    "def x_deri(t):\n",
    "    return (x_end - x_start)/2\n",
    "\n",
    "def y_deri(t):\n",
    "    return (y_end - y_start)/2\n",
    "\n",
    "c1.reparameterization(x, y, x_deri, y_deri, par_range)\n",
    "c1.cal_derivatives_node()"
   ]
  },
  {
   "cell_type": "code",
   "execution_count": 96,
   "id": "4a2af730",
   "metadata": {},
   "outputs": [],
   "source": [
    "# Creating curve2\n",
    "# Create a curve class\n",
    "c2 = Curve2D(N=20)\n",
    "# Set boundary parameter points to be Legendre Gauss Lobbato points\n",
    "c2.set_parameter_points(point_type=\"Chebyshev\")\n",
    "c2.set_BarycentricWeights()\n",
    "c2.set_DiffMatrix()\n",
    "\n",
    "# Parameter range\n",
    "par_range = np.array([-1,1])\n",
    "x_start = b\n",
    "y_start = 0\n",
    "x_end = 0\n",
    "y_end = b\n",
    "\n",
    "\n",
    "def x(t):\n",
    "    return (x_start * (1-t) + x_end * (1+t))/2\n",
    "\n",
    "def y(t):\n",
    "    return (y_start * (1-t) + y_end * (1+t))/2\n",
    "\n",
    "def x_deri(t):\n",
    "    return (x_end - x_start)/2\n",
    "\n",
    "def y_deri(t):\n",
    "    return (y_end - y_start)/2\n",
    "\n",
    "c2.reparameterization(x, y, x_deri, y_deri, par_range)\n",
    "c2.cal_derivatives_node()"
   ]
  },
  {
   "cell_type": "code",
   "execution_count": 97,
   "id": "e677739b",
   "metadata": {
    "scrolled": true
   },
   "outputs": [],
   "source": [
    "# Creating curve3\n",
    "# Create a curve class\n",
    "c3 = Curve2D(N=10)\n",
    "# Set boundary parameter points to be Legendre Gauss Lobbato points\n",
    "c3.set_parameter_points(point_type=\"Legendre\")\n",
    "c3.set_BarycentricWeights()\n",
    "c3.set_DiffMatrix()\n",
    "\n",
    "# Parameter range\n",
    "par_range = np.array([-1,1])\n",
    "x_start = 0\n",
    "y_start = a\n",
    "x_end = 0\n",
    "y_end = b\n",
    "\n",
    "\n",
    "def x(t):\n",
    "    return (x_start * (1-t) + x_end * (1+t))/2\n",
    "\n",
    "def y(t):\n",
    "    return (y_start * (1-t) + y_end * (1+t))/2\n",
    "\n",
    "def x_deri(t):\n",
    "    return (x_end - x_start)/2\n",
    "\n",
    "def y_deri(t):\n",
    "    return (y_end - y_start)/2\n",
    "\n",
    "c3.reparameterization(x, y, x_deri, y_deri, par_range)\n",
    "c3.cal_derivatives_node()"
   ]
  },
  {
   "cell_type": "code",
   "execution_count": 98,
   "id": "07ddc162",
   "metadata": {},
   "outputs": [],
   "source": [
    "# Creating curve4\n",
    "# Create a curve class\n",
    "c4 = Curve2D(N=20)\n",
    "# Set boundary parameter points to be Legendre Gauss Lobbato points\n",
    "c4.set_parameter_points(point_type=\"Chebyshev\")\n",
    "c4.set_BarycentricWeights()\n",
    "c4.set_DiffMatrix()\n",
    "\n",
    "# Parameter range\n",
    "par_range = np.array([-1,1])\n",
    "x_start = a\n",
    "y_start = 0\n",
    "x_end = 0\n",
    "y_end = a\n",
    "\n",
    "\n",
    "def x(t):\n",
    "    return (x_start * (1-t) + x_end * (1+t))/2\n",
    "\n",
    "def y(t):\n",
    "    return (y_start * (1-t) + y_end * (1+t))/2\n",
    "\n",
    "def x_deri(t):\n",
    "    return (x_end - x_start)/2\n",
    "\n",
    "def y_deri(t):\n",
    "    return (y_end - y_start)/2\n",
    "\n",
    "c4.reparameterization(x, y, x_deri, y_deri, par_range)\n",
    "c4.cal_derivatives_node()"
   ]
  },
  {
   "cell_type": "code",
   "execution_count": 99,
   "id": "912b8b57",
   "metadata": {},
   "outputs": [
    {
     "name": "stdout",
     "output_type": "stream",
     "text": [
      "[0. 0. 0. 0. 0. 0. 0. 0. 0. 0. 0.]\n",
      "[0.00000000e+00 0.00000000e+00 0.00000000e+00 0.00000000e+00\n",
      " 0.00000000e+00 0.00000000e+00 0.00000000e+00 0.00000000e+00\n",
      " 0.00000000e+00 0.00000000e+00 1.13509689e-28 0.00000000e+00\n",
      " 0.00000000e+00 0.00000000e+00 0.00000000e+00 0.00000000e+00\n",
      " 0.00000000e+00 0.00000000e+00 0.00000000e+00 2.22044605e-16\n",
      " 0.00000000e+00]\n",
      "[0. 0. 0. 0. 0. 0. 0. 0. 0. 0. 0.]\n",
      "[0.00000000e+00 0.00000000e+00 0.00000000e+00 0.00000000e+00\n",
      " 0.00000000e+00 0.00000000e+00 0.00000000e+00 0.00000000e+00\n",
      " 0.00000000e+00 0.00000000e+00 1.13509689e-28 0.00000000e+00\n",
      " 0.00000000e+00 0.00000000e+00 0.00000000e+00 0.00000000e+00\n",
      " 0.00000000e+00 0.00000000e+00 0.00000000e+00 2.22044605e-16\n",
      " 0.00000000e+00]\n"
     ]
    }
   ],
   "source": [
    "print(c1.parameter_points - c1.parameter_points_original)\n",
    "print(c2.parameter_points - c2.parameter_points_original)\n",
    "print(c3.parameter_points - c3.parameter_points_original)\n",
    "print(c4.parameter_points - c4.parameter_points_original)"
   ]
  },
  {
   "cell_type": "code",
   "execution_count": 100,
   "id": "e9d14432",
   "metadata": {},
   "outputs": [],
   "source": [
    "curves = [c1, c2, c3, c4]"
   ]
  },
  {
   "cell_type": "code",
   "execution_count": 101,
   "id": "32f28fab",
   "metadata": {
    "scrolled": false
   },
   "outputs": [
    {
     "data": {
      "image/png": "[encoded data removed]",
      "text/plain": [
       "<Figure size 640x480 with 1 Axes>"
      ]
     },
     "metadata": {},
     "output_type": "display_data"
    }
   ],
   "source": [
    "# Testing the geometry\n",
    "fig, ax = plt.subplots(nrows=1, ncols=1)\n",
    "for i, c in enumerate(curves):\n",
    "    ax.scatter(c.x_nodes, c.y_nodes, label='Curve {}'.format(i+1))\n",
    "ax.legend()\n",
    "ax.set_title('Boundary nodes')\n",
    "ax.set_aspect('equal')"
   ]
  },
  {
   "cell_type": "markdown",
   "id": "b39268ae",
   "metadata": {},
   "source": [
    "## Inner nodes"
   ]
  },
  {
   "cell_type": "code",
   "execution_count": 102,
   "id": "bab840f1",
   "metadata": {},
   "outputs": [],
   "source": [
    "N = 10\n",
    "M = 5\n",
    "nodal2D = Nodal2D(N,M)\n",
    "nodal2D.cal_nodes(node_type_x=\"Legendre\", node_type_y=\"Chebyshev\")"
   ]
  },
  {
   "cell_type": "markdown",
   "id": "a7a0a4e7",
   "metadata": {},
   "source": [
    "## Mapping geometry class"
   ]
  },
  {
   "cell_type": "code",
   "execution_count": 103,
   "id": "b1da659b",
   "metadata": {},
   "outputs": [],
   "source": [
    "mg = MappingGeometry2D(nodal2D=nodal2D, curves=curves)"
   ]
  },
  {
   "cell_type": "code",
   "execution_count": 104,
   "id": "c8449555",
   "metadata": {},
   "outputs": [
    {
     "name": "stdout",
     "output_type": "stream",
     "text": [
      "Physical coordinates (general) [0.39004477 0.84609134]\n",
      "Physical coordinates (quad) [0.39004477 0.84609134]\n"
     ]
    }
   ],
   "source": [
    "# Testing the map\n",
    "xi = np.random.rand() * 2 - 1\n",
    "eta = np.random.rand() * 2 - 1\n",
    "print(\"Physical coordinates (general)\", mg.cal_Map(xi, eta))\n",
    "print(\"Physical coordinates (quad)\", mg.cal_QuadMap(xi, eta))"
   ]
  },
  {
   "cell_type": "code",
   "execution_count": 105,
   "id": "5d0ac824",
   "metadata": {},
   "outputs": [
    {
     "name": "stdout",
     "output_type": "stream",
     "text": [
      "Metrics (general) (0.3281930191385917, 0.17180698086141472, -0.5597899941918806, 0.5597899941919139)\n",
      "Metrics (quad) (0.3281930191385875, 0.1718069808614125, -0.5597899941919137, 0.5597899941919137)\n"
     ]
    }
   ],
   "source": [
    "# Testing the map derivatives\n",
    "xi = np.random.rand() * 2 - 1\n",
    "eta = np.random.rand() * 2 - 1\n",
    "print(\"Metrics (general)\", mg.cal_MapDerivatives(xi, eta))\n",
    "print(\"Metrics (quad)\", mg.cal_QuadMapDerivatives(xi, eta))"
   ]
  },
  {
   "cell_type": "code",
   "execution_count": 106,
   "id": "afe14963",
   "metadata": {},
   "outputs": [
    {
     "data": {
      "text/plain": [
       "(11, 6)"
      ]
     },
     "execution_count": 106,
     "metadata": {},
     "output_type": "execute_result"
    }
   ],
   "source": [
    "mg.nodes_phy_x.shape"
   ]
  },
  {
   "cell_type": "code",
   "execution_count": 107,
   "id": "96e76e38",
   "metadata": {
    "scrolled": true
   },
   "outputs": [
    {
     "data": {
      "image/png": "[encoded data removed]",
      "text/plain": [
       "<Figure size 640x480 with 2 Axes>"
      ]
     },
     "metadata": {},
     "output_type": "display_data"
    }
   ],
   "source": [
    "# Testing physical node calculation \n",
    "fig, ax = plt.subplots(nrows=1, ncols=2)\n",
    "Nx = mg.nodal2D.Nx\n",
    "Ny = mg.nodal2D.Ny\n",
    "\n",
    "mg.cal_QuadMap_nodes()\n",
    "for i in range(Nx+1):\n",
    "    for j in range(Ny+1):\n",
    "        ax[0].scatter(mg.nodes_phy_x[i,j], mg.nodes_phy_y[i,j], color='blue')\n",
    "ax[0].set_title('Inner nodes, quad map')\n",
    "ax[0].set_aspect('equal')\n",
    "\n",
    "mg.cal_Map_nodes()\n",
    "for i in range(Nx+1):\n",
    "    for j in range(Ny+1):\n",
    "        ax[1].scatter(mg.nodes_phy_x[i,j], mg.nodes_phy_y[i,j], color='blue')\n",
    "ax[1].set_title('Inner nodes, general map')\n",
    "ax[1].set_aspect('equal')"
   ]
  },
  {
   "cell_type": "code",
   "execution_count": 108,
   "id": "3c0d88b4",
   "metadata": {
    "scrolled": true
   },
   "outputs": [
    {
     "data": {
      "text/plain": [
       "array([[0.        , 0.04774575, 0.17274575, 0.32725425, 0.45225425,\n",
       "        0.5       ],\n",
       "       [0.        , 0.04774575, 0.17274575, 0.32725425, 0.45225425,\n",
       "        0.5       ],\n",
       "       [0.        , 0.04774575, 0.17274575, 0.32725425, 0.45225425,\n",
       "        0.5       ],\n",
       "       [0.        , 0.04774575, 0.17274575, 0.32725425, 0.45225425,\n",
       "        0.5       ],\n",
       "       [0.        , 0.04774575, 0.17274575, 0.32725425, 0.45225425,\n",
       "        0.5       ],\n",
       "       [0.        , 0.04774575, 0.17274575, 0.32725425, 0.45225425,\n",
       "        0.5       ],\n",
       "       [0.        , 0.04774575, 0.17274575, 0.32725425, 0.45225425,\n",
       "        0.5       ],\n",
       "       [0.        , 0.04774575, 0.17274575, 0.32725425, 0.45225425,\n",
       "        0.5       ],\n",
       "       [0.        , 0.04774575, 0.17274575, 0.32725425, 0.45225425,\n",
       "        0.5       ],\n",
       "       [0.        , 0.04774575, 0.17274575, 0.32725425, 0.45225425,\n",
       "        0.5       ],\n",
       "       [0.        , 0.04774575, 0.17274575, 0.32725425, 0.45225425,\n",
       "        0.5       ]])"
      ]
     },
     "execution_count": 108,
     "metadata": {},
     "output_type": "execute_result"
    }
   ],
   "source": [
    "# Testing the derivative calculation\n",
    "mg.cal_QuadMapDerivatives_nodes()\n",
    "mg.Y_xi"
   ]
  },
  {
   "cell_type": "code",
   "execution_count": 109,
   "id": "296ed206",
   "metadata": {
    "scrolled": false
   },
   "outputs": [
    {
     "data": {
      "text/plain": [
       "array([[0.        , 0.04774575, 0.17274575, 0.32725425, 0.45225425,\n",
       "        0.5       ],\n",
       "       [0.        , 0.04774575, 0.17274575, 0.32725425, 0.45225425,\n",
       "        0.5       ],\n",
       "       [0.        , 0.04774575, 0.17274575, 0.32725425, 0.45225425,\n",
       "        0.5       ],\n",
       "       [0.        , 0.04774575, 0.17274575, 0.32725425, 0.45225425,\n",
       "        0.5       ],\n",
       "       [0.        , 0.04774575, 0.17274575, 0.32725425, 0.45225425,\n",
       "        0.5       ],\n",
       "       [0.        , 0.04774575, 0.17274575, 0.32725425, 0.45225425,\n",
       "        0.5       ],\n",
       "       [0.        , 0.04774575, 0.17274575, 0.32725425, 0.45225425,\n",
       "        0.5       ],\n",
       "       [0.        , 0.04774575, 0.17274575, 0.32725425, 0.45225425,\n",
       "        0.5       ],\n",
       "       [0.        , 0.04774575, 0.17274575, 0.32725425, 0.45225425,\n",
       "        0.5       ],\n",
       "       [0.        , 0.04774575, 0.17274575, 0.32725425, 0.45225425,\n",
       "        0.5       ],\n",
       "       [0.        , 0.04774575, 0.17274575, 0.32725425, 0.45225425,\n",
       "        0.5       ]])"
      ]
     },
     "execution_count": 109,
     "metadata": {},
     "output_type": "execute_result"
    }
   ],
   "source": [
    "mg.cal_MapDerivatives_nodes()\n",
    "mg.Y_xi"
   ]
  },
  {
   "cell_type": "code",
   "execution_count": 110,
   "id": "c1d3093c",
   "metadata": {
    "scrolled": false
   },
   "outputs": [
    {
     "data": {
      "text/plain": [
       "array([[0.25      , 0.25      , 0.25      , 0.25      , 0.25      ,\n",
       "        0.25      ],\n",
       "       [0.25824982, 0.25824982, 0.25824982, 0.25824982, 0.25824982,\n",
       "        0.25824982],\n",
       "       [0.27693957, 0.27693957, 0.27693957, 0.27693957, 0.27693957,\n",
       "        0.27693957],\n",
       "       [0.30434558, 0.30434558, 0.30434558, 0.30434558, 0.30434558,\n",
       "        0.30434558],\n",
       "       [0.33803023, 0.33803023, 0.33803023, 0.33803023, 0.33803023,\n",
       "        0.33803023],\n",
       "       [0.375     , 0.375     , 0.375     , 0.375     , 0.375     ,\n",
       "        0.375     ],\n",
       "       [0.41196977, 0.41196977, 0.41196977, 0.41196977, 0.41196977,\n",
       "        0.41196977],\n",
       "       [0.44565442, 0.44565442, 0.44565442, 0.44565442, 0.44565442,\n",
       "        0.44565442],\n",
       "       [0.47306043, 0.47306043, 0.47306043, 0.47306043, 0.47306043,\n",
       "        0.47306043],\n",
       "       [0.49175018, 0.49175018, 0.49175018, 0.49175018, 0.49175018,\n",
       "        0.49175018],\n",
       "       [0.5       , 0.5       , 0.5       , 0.5       , 0.5       ,\n",
       "        0.5       ]])"
      ]
     },
     "execution_count": 110,
     "metadata": {},
     "output_type": "execute_result"
    }
   ],
   "source": [
    "mg.cal_Jacobian()\n",
    "mg.J"
   ]
  },
  {
   "cell_type": "code",
   "execution_count": 111,
   "id": "d66b719f",
   "metadata": {},
   "outputs": [
    {
     "name": "stdout",
     "output_type": "stream",
     "text": [
      "Lower normal vectors\n",
      " [[-0. -1.]\n",
      " [-0. -1.]\n",
      " [-0. -1.]\n",
      " [-0. -1.]\n",
      " [-0. -1.]\n",
      " [-0. -1.]\n",
      " [-0. -1.]\n",
      " [-0. -1.]\n",
      " [-0. -1.]\n",
      " [-0. -1.]\n",
      " [-0. -1.]]\n",
      "Upper normal vectors\n",
      " [[-1.  0.]\n",
      " [-1.  0.]\n",
      " [-1.  0.]\n",
      " [-1.  0.]\n",
      " [-1.  0.]\n",
      " [-1.  0.]\n",
      " [-1.  0.]\n",
      " [-1.  0.]\n",
      " [-1.  0.]\n",
      " [-1.  0.]\n",
      " [-1.  0.]]\n",
      "Left normal vectors\n",
      " [[-0.70710678 -0.70710678]\n",
      " [-0.70710678 -0.70710678]\n",
      " [-0.70710678 -0.70710678]\n",
      " [-0.70710678 -0.70710678]\n",
      " [-0.70710678 -0.70710678]\n",
      " [-0.70710678 -0.70710678]]\n",
      "Right normal vectors\n",
      " [[0.70710678 0.70710678]\n",
      " [0.70710678 0.70710678]\n",
      " [0.70710678 0.70710678]\n",
      " [0.70710678 0.70710678]\n",
      " [0.70710678 0.70710678]\n",
      " [0.70710678 0.70710678]]\n"
     ]
    }
   ],
   "source": [
    "# Testing the normal vector calculation\n",
    "mg.cal_normal_vector_nodes()\n",
    "print(\"Lower normal vectors\\n\", mg.norm_vect_lower)\n",
    "print(\"Upper normal vectors\\n\", mg.norm_vect_upper)\n",
    "print(\"Left normal vectors\\n\", mg.norm_vect_left)\n",
    "print(\"Right normal vectors\\n\", mg.norm_vect_right)"
   ]
  }
 ],
 "metadata": {
  "kernelspec": {
   "display_name": "Python 3 (ipykernel)",
   "language": "python",
   "name": "python3"
  },
  "language_info": {
   "codemirror_mode": {
    "name": "ipython",
    "version": 3
   },
   "file_extension": ".py",
   "mimetype": "text/x-python",
   "name": "python",
   "nbconvert_exporter": "python",
   "pygments_lexer": "ipython3",
   "version": "3.9.13"
  }
 },
 "nbformat": 4,
 "nbformat_minor": 5
}
