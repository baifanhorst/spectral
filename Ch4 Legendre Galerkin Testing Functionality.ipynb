{
 "cells": [
  {
   "cell_type": "code",
   "execution_count": 16,
   "id": "65efc7d6",
   "metadata": {},
   "outputs": [],
   "source": [
    "import numpy as np\n",
    "import matplotlib.pyplot as plt\n",
    "from scipy.integrate import solve_ivp\n",
    "from scipy import linalg\n",
    "from numpy.linalg import inv\n",
    "\n",
    "\n",
    "# Reloading the module\n",
    "import importlib\n",
    "\n",
    "import OrthogonalPolynomials\n",
    "importlib.reload(OrthogonalPolynomials)\n",
    "from OrthogonalPolynomials import *\n",
    "\n",
    "import GeneralFunctionality\n",
    "importlib.reload(GeneralFunctionality)\n",
    "from GeneralFunctionality import *"
   ]
  },
  {
   "cell_type": "code",
   "execution_count": 17,
   "id": "d41c4a78",
   "metadata": {
    "scrolled": false
   },
   "outputs": [
    {
     "name": "stdout",
     "output_type": "stream",
     "text": [
      "Solution mine\n",
      " [0.04735994 0.23861346 0.28234583 0.26400645 0.44719871]\n",
      "Solution linalg.solve\n",
      " [0.04735994 0.23861346 0.28234583 0.26400645 0.44719871]\n",
      "Solution numpy.linalg.inv\n",
      " [0.04735994 0.23861346 0.28234583 0.26400645 0.44719871]\n"
     ]
    }
   ],
   "source": [
    "# Testing the tridiagonal solver\n",
    "def CreateTridiagonal():\n",
    "    N = 4\n",
    "    d = np.array([6,7,8,9,10], dtype=np.double)\n",
    "    l = np.array([0,1,2,1,2], dtype=np.double)\n",
    "    u = np.array([3,1,1,3,0], dtype=np.double)\n",
    "    y = np.array([1,2,3,4,5], dtype=np.double)\n",
    "    A = np.zeros((N+1, N+1), dtype=np.double)\n",
    "    \n",
    "    for i in range(N+1):\n",
    "        A[i,i] = d[i]\n",
    "    for i in range(1,N+1):\n",
    "        A[i,i-1] = l[i]\n",
    "    for i in range(N):\n",
    "        A[i,i+1] = u[i]\n",
    "        \n",
    "    \n",
    "    return N, d, l, u, y, A\n",
    "\n",
    "\n",
    "\n",
    "N, d, l, u, y, A = CreateTridiagonal()\n",
    "x = TridiagonalSolver(N, d, l, u, y)\n",
    "print(\"Solution mine\\n\", x)\n",
    "\n",
    "# scipy\n",
    "N, d, l, u, y, A = CreateTridiagonal()\n",
    "x = linalg.solve(A, y)\n",
    "print(\"Solution linalg.solve\\n\", x)\n",
    "\n",
    "# numpy inverse matrix\n",
    "x = np.dot(inv(A),y)\n",
    "print(\"Solution numpy.linalg.inv\\n\", x)\n"
   ]
  },
  {
   "cell_type": "code",
   "execution_count": 19,
   "id": "07624a4c",
   "metadata": {},
   "outputs": [
    {
     "name": "stdout",
     "output_type": "stream",
     "text": [
      "np.dot(A, x) [63. 96. 38. 46. 38.]\n",
      "TridiagonalMultiplication [63. 96. 38. 46. 38.]\n"
     ]
    }
   ],
   "source": [
    "x = np.array([4,13,1,4,3])\n",
    "print(\"np.dot(A, x)\", np.dot(A, x))\n",
    "print(\"TridiagonalMultiplication\", TridiagonalMultiplication(d,l,u,x))"
   ]
  }
 ],
 "metadata": {
  "kernelspec": {
   "display_name": "Python 3 (ipykernel)",
   "language": "python",
   "name": "python3"
  },
  "language_info": {
   "codemirror_mode": {
    "name": "ipython",
    "version": 3
   },
   "file_extension": ".py",
   "mimetype": "text/x-python",
   "name": "python",
   "nbconvert_exporter": "python",
   "pygments_lexer": "ipython3",
   "version": "3.9.13"
  }
 },
 "nbformat": 4,
 "nbformat_minor": 5
}
