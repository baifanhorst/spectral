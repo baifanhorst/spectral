{
 "cells": [
  {
   "cell_type": "code",
   "execution_count": 117,
   "id": "1e6aadd3",
   "metadata": {},
   "outputs": [],
   "source": [
    "import numpy as np\n",
    "import matplotlib.pyplot as plt\n",
    "from scipy.integrate import solve_ivp\n",
    "\n",
    "# Reloading the module\n",
    "import importlib\n",
    "\n",
    "import OrthogonalPolynomials\n",
    "importlib.reload(OrthogonalPolynomials)\n",
    "from OrthogonalPolynomials import *\n",
    "\n",
    "import GeneralFunctionality\n",
    "importlib.reload(GeneralFunctionality)\n",
    "from GeneralFunctionality import *\n",
    "\n",
    "from scipy.special import eval_legendre, roots_legendre\n",
    "from scipy import integrate"
   ]
  },
  {
   "cell_type": "code",
   "execution_count": 118,
   "id": "c7fc67a3",
   "metadata": {},
   "outputs": [],
   "source": [
    "# Finding the Legendre Gauss points\n",
    "N = 40\n",
    "# Node index: 0,1,...,N -> N+1 nodes -> zeros of L_{N+1}\n",
    "x_Le, w_Le = roots_legendre(N+1)\n",
    "# Barycentric weights\n",
    "w_bary = BarycentricWeights(x_Le)\n",
    "# Differentiation matrix\n",
    "D = PolynomialDiffMatrix(x_Le, w_bary)\n",
    "# 2nd-order differentiation matrix\n",
    "D2 = PolynomialDiffMatrix_HighOrder(2, x_Le, w_bary, D)"
   ]
  },
  {
   "cell_type": "code",
   "execution_count": 119,
   "id": "d88941f9",
   "metadata": {},
   "outputs": [],
   "source": [
    "def MatrixG(N, D2, w): \n",
    "    # Computing the matrix G on the RHS of the ODE system\n",
    "    # D2: 2nd-order differentiation matrix\n",
    "    # w: Legendre Gauss weights\n",
    "    # The subroutine can be improved by numpy vectorization\n",
    "    \n",
    "    G = np.zeros((N+1, N+1))\n",
    "    for j in range(N+1):\n",
    "        for n in range(N+1):\n",
    "            G[j,n] = D2[n,j] * w[n] / w[j]\n",
    "            \n",
    "    return G\n",
    "\n",
    "G = MatrixG(N, D2, w_Le)"
   ]
  },
  {
   "cell_type": "code",
   "execution_count": 120,
   "id": "cd5f29ca",
   "metadata": {},
   "outputs": [],
   "source": [
    "l_left, l_right = LagrangePolynomialsBoundaryValues(N, x_Le, w_bary)"
   ]
  },
  {
   "cell_type": "code",
   "execution_count": 121,
   "id": "2482a126",
   "metadata": {},
   "outputs": [],
   "source": [
    "def RHS(t, u, N, x_Le, w_Le, w_bary, D, G, l_left, l_right):\n",
    "    # Evaluating the RHS of the ODE system\n",
    "    \n",
    "    # Derivatives of the interpolating polynomial at the boundaries\n",
    "    ux_left = LagrangeInterpolationDerivativeBary(-1.0, x_Le, u, w_bary, D)\n",
    "    ux_right = LagrangeInterpolationDerivativeBary(1.0, x_Le, u, w_bary, D)\n",
    "    \n",
    "    \n",
    "    rhs = (ux_right*l_right - ux_left*l_left) / w_Le + np.dot(G, u)\n",
    "    \n",
    "    return rhs"
   ]
  },
  {
   "cell_type": "code",
   "execution_count": 122,
   "id": "9566ce91",
   "metadata": {
    "scrolled": false
   },
   "outputs": [
    {
     "name": "stderr",
     "output_type": "stream",
     "text": [
      "C:\\Users\\bai_f\\Documents\\Timken\\research\\spectral2\\OrthogonalPolynomials.py:307: RuntimeWarning: overflow encountered in multiply\n",
      "  px = np.sum((p - f) / (x-x_nodes) * factors) / sum_factors\n",
      "C:\\Users\\bai_f\\Documents\\Timken\\research\\spectral2\\OrthogonalPolynomials.py:307: RuntimeWarning: invalid value encountered in subtract\n",
      "  px = np.sum((p - f) / (x-x_nodes) * factors) / sum_factors\n",
      "C:\\Users\\bai_f\\anaconda3\\lib\\site-packages\\numpy\\core\\fromnumeric.py:86: RuntimeWarning: overflow encountered in reduce\n",
      "  return ufunc.reduce(obj, axis, dtype, out, **passkwargs)\n"
     ]
    },
    {
     "ename": "IndexError",
     "evalue": "index 1 is out of bounds for axis 1 with size 1",
     "output_type": "error",
     "traceback": [
      "\u001b[1;31m---------------------------------------------------------------------------\u001b[0m",
      "\u001b[1;31mIndexError\u001b[0m                                Traceback (most recent call last)",
      "\u001b[1;32m~\\AppData\\Local\\Temp\\ipykernel_12864\\1246326802.py\u001b[0m in \u001b[0;36m<module>\u001b[1;34m\u001b[0m\n\u001b[0;32m     18\u001b[0m \u001b[0mNt\u001b[0m \u001b[1;33m=\u001b[0m \u001b[0mlen\u001b[0m\u001b[1;33m(\u001b[0m\u001b[0mt_eval\u001b[0m\u001b[1;33m)\u001b[0m\u001b[1;33m\u001b[0m\u001b[1;33m\u001b[0m\u001b[0m\n\u001b[0;32m     19\u001b[0m \u001b[1;32mfor\u001b[0m \u001b[0mit\u001b[0m \u001b[1;32min\u001b[0m \u001b[0mrange\u001b[0m\u001b[1;33m(\u001b[0m\u001b[0mNt\u001b[0m\u001b[1;33m)\u001b[0m\u001b[1;33m:\u001b[0m\u001b[1;33m\u001b[0m\u001b[1;33m\u001b[0m\u001b[0m\n\u001b[1;32m---> 20\u001b[1;33m     \u001b[0max\u001b[0m\u001b[1;33m.\u001b[0m\u001b[0mplot\u001b[0m\u001b[1;33m(\u001b[0m\u001b[0mx_Le\u001b[0m\u001b[1;33m,\u001b[0m \u001b[0msol\u001b[0m\u001b[1;33m.\u001b[0m\u001b[0my\u001b[0m\u001b[1;33m[\u001b[0m\u001b[1;33m:\u001b[0m\u001b[1;33m,\u001b[0m\u001b[0mit\u001b[0m\u001b[1;33m]\u001b[0m\u001b[1;33m,\u001b[0m \u001b[0mlabel\u001b[0m\u001b[1;33m=\u001b[0m\u001b[1;34m't={}'\u001b[0m\u001b[1;33m.\u001b[0m\u001b[0mformat\u001b[0m\u001b[1;33m(\u001b[0m\u001b[0mt_eval\u001b[0m\u001b[1;33m[\u001b[0m\u001b[0mit\u001b[0m\u001b[1;33m]\u001b[0m\u001b[1;33m)\u001b[0m\u001b[1;33m)\u001b[0m\u001b[1;33m\u001b[0m\u001b[1;33m\u001b[0m\u001b[0m\n\u001b[0m\u001b[0;32m     21\u001b[0m \u001b[1;33m\u001b[0m\u001b[0m\n\u001b[0;32m     22\u001b[0m \u001b[0max\u001b[0m\u001b[1;33m.\u001b[0m\u001b[0mlegend\u001b[0m\u001b[1;33m(\u001b[0m\u001b[1;33m)\u001b[0m\u001b[1;33m\u001b[0m\u001b[1;33m\u001b[0m\u001b[0m\n",
      "\u001b[1;31mIndexError\u001b[0m: index 1 is out of bounds for axis 1 with size 1"
     ]
    },
    {
     "data": {
      "image/png": "[encoded data removed]",
      "text/plain": [
       "<Figure size 640x480 with 1 Axes>"
      ]
     },
     "metadata": {},
     "output_type": "display_data"
    }
   ],
   "source": [
    "# Scipy calculation\n",
    "\n",
    "# Initial condition\n",
    "u0 = 1 - x_Le**2\n",
    "\n",
    "t_span = [0, 1]\n",
    "t_eval=[0, 0.005]\n",
    "sol = solve_ivp(RHS, \n",
    "                t_span=t_span, \n",
    "                y0=u0, \n",
    "                method='RK45', \n",
    "                t_eval=t_eval, \n",
    "                args=(N, x_Le, w_Le, w_bary, D, G, l_left, l_right))\n",
    "\n",
    "fig = plt.figure()\n",
    "ax = fig.add_subplot(111)\n",
    "\n",
    "Nt = len(t_eval)\n",
    "for it in range(Nt):\n",
    "    ax.plot(x_Le, sol.y[:,it], label='t={}'.format(t_eval[it]))\n",
    "\n",
    "ax.legend()\n",
    "ax.set_title(r'$u_t=u_{xx}$')"
   ]
  },
  {
   "cell_type": "code",
   "execution_count": null,
   "id": "a73f65aa",
   "metadata": {
    "scrolled": false
   },
   "outputs": [],
   "source": [
    "# Interpolating to a finer grid for plotting purpose\n",
    "y = np.linspace(-1,1,101)\n",
    "T = InterpolatingMatrix(x_Le, y, w_bary)\n",
    "\n",
    "fig = plt.figure()\n",
    "ax = fig.add_subplot(111)\n",
    "\n",
    "Nt = len(t_eval)\n",
    "for it in range(Nt):\n",
    "    u = sol.y[:,it]\n",
    "    u_newgrid = np.dot(T, u)\n",
    "    ax.plot(y, u_newgrid, label='t={}'.format(t_eval[it]))\n",
    "\n",
    "\n",
    "ax.legend()\n",
    "ax.set_title(r'$u_t=u_{xx}$')\n"
   ]
  }
 ],
 "metadata": {
  "kernelspec": {
   "display_name": "Python 3 (ipykernel)",
   "language": "python",
   "name": "python3"
  },
  "language_info": {
   "codemirror_mode": {
    "name": "ipython",
    "version": 3
   },
   "file_extension": ".py",
   "mimetype": "text/x-python",
   "name": "python",
   "nbconvert_exporter": "python",
   "pygments_lexer": "ipython3",
   "version": "3.9.13"
  }
 },
 "nbformat": 4,
 "nbformat_minor": 5
}
