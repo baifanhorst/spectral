{
 "cells": [
  {
   "cell_type": "code",
   "execution_count": 14,
   "id": "cfeebdc5",
   "metadata": {},
   "outputs": [],
   "source": [
    "import numpy as np\n",
    "import matplotlib.pyplot as plt\n",
    "import pandas as pd\n",
    "from scipy.fft import fft, ifft"
   ]
  },
  {
   "cell_type": "code",
   "execution_count": 15,
   "id": "6e1439c3",
   "metadata": {},
   "outputs": [],
   "source": [
    "def DFT_Hussaini_DirectCalculation(u):\n",
    "    # Implement the DFT version in Hussaini's Spectral Methods in Fluid Dynamics\n",
    "    # Implement direct summation according to the formula\n",
    "    \n",
    "    # Length of the input vector\n",
    "    N = len(u)\n",
    "    \n",
    "    # Only allow even length\n",
    "    if N%2 == 1:\n",
    "        print('Please use an even length')\n",
    "        return\n",
    "    \n",
    "    # Fourier nodes\n",
    "    x = 2 * np.pi / N * np.arange(0,N)\n",
    "    \n",
    "    # Initialization of the Fourier coefficients\n",
    "    u_DFT = np.zeros(N, dtype=complex)\n",
    "    \n",
    "    # Calculating the Fourier coefficients\n",
    "    for k in range(N):\n",
    "        for j in range(N):\n",
    "            u_DFT[k] += u[j] * np.exp(-1j * k * x[j])\n",
    "    \n",
    "    u_DFT = u_DFT / N\n",
    "    \n",
    "    # Rearrangement\n",
    "    return np.concatenate((u_DFT[:N//2], u_DFT[-N//2:]))\n",
    "    "
   ]
  },
  {
   "cell_type": "code",
   "execution_count": 16,
   "id": "ee9e3ff7",
   "metadata": {},
   "outputs": [],
   "source": [
    "def DFT_Hussaini_ScipyFFT(u):\n",
    "    # Use the DFT version in Hussaini's Spectral Methods in Fluid Dynamics\n",
    "    \n",
    "    \n",
    "    # Length of the input vector\n",
    "    N = len(u)\n",
    "    \n",
    "    \n",
    "    # Only allow even length\n",
    "    if N%2 == 1:\n",
    "        print('Please use an even length')\n",
    "        return\n",
    "    \n",
    "    u_DFT = fft(u)\n",
    "    u_DFT = u_DFT / N\n",
    "    \n",
    "    # Rearrangement\n",
    "    return np.concatenate((u_DFT[:N//2], u_DFT[-N//2:]))\n",
    "    "
   ]
  },
  {
   "cell_type": "code",
   "execution_count": 25,
   "id": "92c2ed83",
   "metadata": {},
   "outputs": [],
   "source": [
    "def DFT_inv_Hussaini_DirectCalculation(u_DFT):\n",
    "    # Evaluating the inverse DFT by direct summation\n",
    "    # according to the formula in Hussaini's Spectral Methods in Fluid Dynamics\n",
    "    # The input vector, u_DFT, must contain Fourier coefficients\n",
    "    # ordered as k=-N/2, ..., N/2-1\n",
    "    \n",
    "    # Length of the input vector\n",
    "    N = len(u_DFT)\n",
    "    \n",
    "    # Only allow even length\n",
    "    if N%2 == 1:\n",
    "        print('Please use an even length')\n",
    "        return\n",
    "    \n",
    "    # Fourier nodes\n",
    "    x = 2 * np.pi / N * np.arange(0,N)\n",
    "    \n",
    "    # Initialization\n",
    "    u = np.zeros(N, dtype=complex)\n",
    "    \n",
    "    # Calculation based on direct summation\n",
    "    for i in range(N):\n",
    "        for k in range(-N//2, N//2):\n",
    "            u[i] += u_DFT[k] * np.exp(1j * k * x[i])\n",
    "    \n",
    "    return u    "
   ]
  },
  {
   "cell_type": "code",
   "execution_count": 28,
   "id": "0c656329",
   "metadata": {},
   "outputs": [],
   "source": [
    "def DFT_inv_Hussaini_Scipy(u_DFT):\n",
    "    # Evaluating the inverse DFT by direct summation\n",
    "    # according to the formula in Hussaini's Spectral Methods in Fluid Dynamics\n",
    "    # The input vector, u_DFT, must contain Fourier coefficients\n",
    "    # ordered as k=-N/2, ..., N/2-1\n",
    "    \n",
    "    # Length of the input vector\n",
    "    N = len(u_DFT)\n",
    "    \n",
    "    # Only allow even length\n",
    "    if N%2 == 1:\n",
    "        print('Please use an even length')\n",
    "        return\n",
    "    \n",
    "    # Rearrangement\n",
    "    u_DFT = np.concatenate((u_DFT[-N//2:], u_DFT[:N//2])) * N\n",
    "    u = ifft(u_DFT)\n",
    "    \n",
    "    return u    "
   ]
  },
  {
   "cell_type": "code",
   "execution_count": 29,
   "id": "1fb8231e",
   "metadata": {
    "scrolled": true
   },
   "outputs": [
    {
     "name": "stdout",
     "output_type": "stream",
     "text": [
      "DFT by Direct Summation:\n",
      " [ 3.5+0.00000000e+00j -0.5+8.66025404e-01j -0.5+2.88675135e-01j\n",
      " -0.5-2.14375088e-15j -0.5-2.88675135e-01j -0.5-8.66025404e-01j]\n",
      "DFT by Scipy:\n",
      " [ 3.5-0.j         -0.5+0.8660254j  -0.5+0.28867513j -0.5+0.j\n",
      " -0.5-0.28867513j -0.5-0.8660254j ]\n"
     ]
    }
   ],
   "source": [
    "# DFT: Compare direct summation with FFT\n",
    "u = np.array([1,2,3,4,5,6])\n",
    "u_DFT_direct = DFT_Hussaini_DirectCalculation(u)\n",
    "print('DFT by Direct Summation:\\n', u_DFT_direct)\n",
    "u_DFT_scipy = DFT_Hussaini_ScipyFFT(u)\n",
    "print('DFT by Scipy:\\n', u_DFT_scipy)"
   ]
  },
  {
   "cell_type": "code",
   "execution_count": 31,
   "id": "01f4e113",
   "metadata": {},
   "outputs": [
    {
     "name": "stdout",
     "output_type": "stream",
     "text": [
      "Inverse DFT by Direct Summation:\n",
      " [1.-6.66133815e-15j 2.-2.33146835e-15j 3.-1.77635684e-15j\n",
      " 4.-3.33066907e-16j 5.+1.33226763e-15j 6.+1.05471187e-14j]\n",
      "Inverse DFT by Scipy:\n",
      " [ 1.+0.j -2.+0.j  3.+0.j -4.+0.j  5.+0.j -6.+0.j]\n"
     ]
    }
   ],
   "source": [
    "# inverse DFT: Compare direct summation with iFFT\n",
    "u_iDFT_direct = DFT_inv_Hussaini_DirectCalculation(u_DFT_direct)\n",
    "print('Inverse DFT by Direct Summation:\\n', u_iDFT_direct)\n",
    "u_iDFT_scipy = DFT_inv_Hussaini_Scipy(u_DFT_scipy)\n",
    "print('Inverse DFT by Scipy:\\n', u_iDFT_scipy)"
   ]
  }
 ],
 "metadata": {
  "kernelspec": {
   "display_name": "Python 3 (ipykernel)",
   "language": "python",
   "name": "python3"
  },
  "language_info": {
   "codemirror_mode": {
    "name": "ipython",
    "version": 3
   },
   "file_extension": ".py",
   "mimetype": "text/x-python",
   "name": "python",
   "nbconvert_exporter": "python",
   "pygments_lexer": "ipython3",
   "version": "3.9.13"
  }
 },
 "nbformat": 4,
 "nbformat_minor": 5
}
