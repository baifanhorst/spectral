{
 "cells": [
  {
   "cell_type": "code",
   "execution_count": 18,
   "id": "a9824c51",
   "metadata": {},
   "outputs": [],
   "source": [
    "import numpy as np\n",
    "import matplotlib.pyplot as plt\n",
    "from scipy.integrate import solve_ivp\n",
    "\n",
    "# Reloading the module\n",
    "import importlib\n",
    "\n",
    "import OrthogonalPolynomials\n",
    "importlib.reload(OrthogonalPolynomials)\n",
    "from OrthogonalPolynomials import *\n",
    "\n",
    "import GeneralFunctionality\n",
    "importlib.reload(GeneralFunctionality)\n",
    "from GeneralFunctionality import *\n",
    "\n",
    "import Potential2D\n",
    "importlib.reload(Potential2D)\n",
    "from Potential2D import *\n",
    "\n",
    "from scipy.special import eval_legendre, roots_legendre\n",
    "from scipy import integrate"
   ]
  },
  {
   "cell_type": "code",
   "execution_count": 2,
   "id": "28399e05",
   "metadata": {
    "scrolled": true
   },
   "outputs": [
    {
     "name": "stdout",
     "output_type": "stream",
     "text": [
      "[['00' '01']\n",
      " ['10' '11']\n",
      " ['20' '21']\n",
      " ['30' '31']]\n",
      "['00' '01' '10' '11' '20' '21' '30' '31']\n",
      "[['00' '01']\n",
      " ['10' '11']\n",
      " ['20' '21']\n",
      " ['30' '31']]\n"
     ]
    }
   ],
   "source": [
    "# Testing the index maps\n",
    "N = 4\n",
    "M = 2\n",
    "A = np.empty((N,M), dtype=object)\n",
    "for i in range(N):\n",
    "    for j in range(M):\n",
    "        A[i,j] = str(i)+str(j)\n",
    "        \n",
    "print(A)\n",
    "\n",
    "A_1D = np.empty((N*M), dtype=object)\n",
    "for i in range(N):\n",
    "    for j in range(M):\n",
    "        n = index_2D_to_1D(i,j,M)\n",
    "        A_1D[n] = A[i,j]\n",
    "        \n",
    "print(A_1D)\n",
    "\n",
    "B = np.empty((N,M), dtype=object)\n",
    "for n in range(N*M):\n",
    "    i,j = index_1D_to_2D(n,M)\n",
    "    B[i,j] = A_1D[n]\n",
    "    \n",
    "print(B)        "
   ]
  },
  {
   "cell_type": "code",
   "execution_count": 3,
   "id": "bca52d0a",
   "metadata": {
    "scrolled": false
   },
   "outputs": [
    {
     "name": "stdout",
     "output_type": "stream",
     "text": [
      "Solution:\n",
      " [[ 5. -7.  5.]\n",
      " [-7. 17. -7.]\n",
      " [ 5. -7.  5.]]\n",
      "S:\n",
      " [[12. 15. 18.]\n",
      " [21. 24. 27.]\n",
      " [30. 33. 36.]]\n",
      "RHS:\n",
      " [[12. 15. 18.]\n",
      " [21. 24. 27.]\n",
      " [30. 33. 36.]]\n",
      "RHS U0:\n",
      " [[12. 15. 18.]\n",
      " [21. 24. 27.]\n",
      " [30. 33. 36.]]\n"
     ]
    }
   ],
   "source": [
    "# Testing the matrix equation solver\n",
    "N = 3\n",
    "M = 3\n",
    "A = np.arange(N*N).reshape(N,N)\n",
    "B = np.arange(M*M).reshape(M,M)\n",
    "#B = np.zeros(M*M).reshape(M,M)\n",
    "U0 = np.ones((N,M))\n",
    "S = np.dot(A, U0) + np.dot(U0, B)\n",
    "U = MatEqnSolver(A, B, S, N, M)\n",
    "print(\"Solution:\\n\", U)\n",
    "print(\"S:\\n\", S)\n",
    "print(\"RHS:\\n\", np.dot(A, U) + np.dot(U, B))\n",
    "print(\"RHS U0:\\n\", np.dot(A, U) + np.dot(U, B))"
   ]
  },
  {
   "cell_type": "code",
   "execution_count": 4,
   "id": "a777d851",
   "metadata": {
    "scrolled": true
   },
   "outputs": [
    {
     "name": "stdout",
     "output_type": "stream",
     "text": [
      "Solution:\n",
      " [[1. 1. 1. 1. 1. 1. 1.]\n",
      " [1. 1. 1. 1. 1. 1. 1.]\n",
      " [1. 1. 1. 1. 1. 1. 1.]\n",
      " [1. 1. 1. 1. 1. 1. 1.]]\n",
      "S:\n",
      " [[6.84330092 6.75954352 6.83498915 6.16705602 6.67264661 5.9330296\n",
      "  6.80868144]\n",
      " [6.43897574 6.35521834 6.43066397 5.76273084 6.26832143 5.52870442\n",
      "  6.40435626]\n",
      " [6.899012   6.8152546  6.89070023 6.2227671  6.72835769 5.98874068\n",
      "  6.86439252]\n",
      " [6.18980541 6.10604801 6.18149364 5.51356051 6.0191511  5.27953409\n",
      "  6.15518593]]\n",
      "RHS:\n",
      " [[6.84330092 6.75954352 6.83498915 6.16705602 6.67264661 5.9330296\n",
      "  6.80868144]\n",
      " [6.43897574 6.35521834 6.43066397 5.76273084 6.26832143 5.52870442\n",
      "  6.40435626]\n",
      " [6.899012   6.8152546  6.89070023 6.2227671  6.72835769 5.98874068\n",
      "  6.86439252]\n",
      " [6.18980541 6.10604801 6.18149364 5.51356051 6.0191511  5.27953409\n",
      "  6.15518593]]\n",
      "RHS U0:\n",
      " [[6.84330092 6.75954352 6.83498915 6.16705602 6.67264661 5.9330296\n",
      "  6.80868144]\n",
      " [6.43897574 6.35521834 6.43066397 5.76273084 6.26832143 5.52870442\n",
      "  6.40435626]\n",
      " [6.899012   6.8152546  6.89070023 6.2227671  6.72835769 5.98874068\n",
      "  6.86439252]\n",
      " [6.18980541 6.10604801 6.18149364 5.51356051 6.0191511  5.27953409\n",
      "  6.15518593]]\n"
     ]
    }
   ],
   "source": [
    "# Testing the matrix equation solver\n",
    "N = 4\n",
    "M = 7\n",
    "A = np.random.rand(N,N)\n",
    "B = np.random.rand(M,M)\n",
    "U0 = np.ones((N,M))\n",
    "S = np.dot(A, U0) + np.dot(U0, B)\n",
    "U = MatEqnSolver(A, B, S, N, M)\n",
    "print(\"Solution:\\n\", U)\n",
    "print(\"S:\\n\", S)\n",
    "print(\"RHS:\\n\", np.dot(A, U) + np.dot(U, B))\n",
    "print(\"RHS U0:\\n\", np.dot(A, U) + np.dot(U, B))"
   ]
  },
  {
   "cell_type": "code",
   "execution_count": 8,
   "id": "660dbb43",
   "metadata": {
    "scrolled": true
   },
   "outputs": [
    {
     "name": "stdout",
     "output_type": "stream",
     "text": [
      "A\n",
      " [[1 2 3]\n",
      " [4 5 6]]\n",
      "B\n",
      " [[1. 0.]\n",
      " [0. 1.]]\n",
      "$A \\otimes B$ \n",
      " [[1. 0. 2. 0. 3. 0.]\n",
      " [0. 1. 0. 2. 0. 3.]\n",
      " [4. 0. 5. 0. 6. 0.]\n",
      " [0. 4. 0. 5. 0. 6.]]\n"
     ]
    }
   ],
   "source": [
    "# Testing the Kronecker product\n",
    "A = np.arange(1,6+1).reshape(2,3)\n",
    "B = np.identity(2)\n",
    "print(\"A\\n\", A)\n",
    "print(\"B\\n\", B)\n",
    "print(r\"$A \\otimes B$\", '\\n', np.kron(A, B))"
   ]
  },
  {
   "cell_type": "code",
   "execution_count": 14,
   "id": "5137ab91",
   "metadata": {
    "scrolled": true
   },
   "outputs": [
    {
     "data": {
      "text/plain": [
       "array([1, 2, 3, 4, 5, 6])"
      ]
     },
     "execution_count": 14,
     "metadata": {},
     "output_type": "execute_result"
    }
   ],
   "source": [
    "# Testing reshape\n",
    "A.reshape(6)"
   ]
  },
  {
   "cell_type": "code",
   "execution_count": 21,
   "id": "2886646e",
   "metadata": {
    "scrolled": true
   },
   "outputs": [
    {
     "name": "stdout",
     "output_type": "stream",
     "text": [
      "Solution:\n",
      " [[1. 1. 1. 1. 1. 1. 1.]\n",
      " [1. 1. 1. 1. 1. 1. 1.]\n",
      " [1. 1. 1. 1. 1. 1. 1.]\n",
      " [1. 1. 1. 1. 1. 1. 1.]]\n",
      "S:\n",
      " [[5.85087459 6.31372782 6.66694872 5.81986123 7.69444601 6.18774397\n",
      "  7.3961014 ]\n",
      " [4.86786294 5.33071617 5.68393707 4.83684957 6.71143436 5.20473232\n",
      "  6.41308975]\n",
      " [3.94137547 4.4042287  4.7574496  3.9103621  5.78494689 4.27824485\n",
      "  5.48660228]\n",
      " [5.23197476 5.69482799 6.04804889 5.20096139 7.07554618 5.56884414\n",
      "  6.77720157]]\n",
      "RHS:\n",
      " [[5.85087459 6.31372782 6.66694872 5.81986123 7.69444601 6.18774397\n",
      "  7.3961014 ]\n",
      " [4.86786294 5.33071617 5.68393707 4.83684957 6.71143436 5.20473232\n",
      "  6.41308975]\n",
      " [3.94137547 4.4042287  4.7574496  3.9103621  5.78494689 4.27824485\n",
      "  5.48660228]\n",
      " [5.23197476 5.69482799 6.04804889 5.20096139 7.07554618 5.56884414\n",
      "  6.77720157]]\n",
      "RHS U0:\n",
      " [[5.85087459 6.31372782 6.66694872 5.81986123 7.69444601 6.18774397\n",
      "  7.3961014 ]\n",
      " [4.86786294 5.33071617 5.68393707 4.83684957 6.71143436 5.20473232\n",
      "  6.41308975]\n",
      " [3.94137547 4.4042287  4.7574496  3.9103621  5.78494689 4.27824485\n",
      "  5.48660228]\n",
      " [5.23197476 5.69482799 6.04804889 5.20096139 7.07554618 5.56884414\n",
      "  6.77720157]]\n"
     ]
    }
   ],
   "source": [
    "# Testing the matrix equation solver\n",
    "N = 4\n",
    "M = 7\n",
    "A = np.random.rand(N,N)\n",
    "B = np.random.rand(M,M)\n",
    "U0 = np.ones((N,M))\n",
    "S = np.dot(A, U0) + np.dot(U0, B)\n",
    "U = MatEqnSolver(A, B, S, N, M, Converter=MatEqnConverter2)\n",
    "print(\"Solution:\\n\", U)\n",
    "print(\"S:\\n\", S)\n",
    "print(\"RHS:\\n\", np.dot(A, U) + np.dot(U, B))\n",
    "print(\"RHS U0:\\n\", np.dot(A, U) + np.dot(U, B))"
   ]
  }
 ],
 "metadata": {
  "kernelspec": {
   "display_name": "Python 3 (ipykernel)",
   "language": "python",
   "name": "python3"
  },
  "language_info": {
   "codemirror_mode": {
    "name": "ipython",
    "version": 3
   },
   "file_extension": ".py",
   "mimetype": "text/x-python",
   "name": "python",
   "nbconvert_exporter": "python",
   "pygments_lexer": "ipython3",
   "version": "3.9.13"
  }
 },
 "nbformat": 4,
 "nbformat_minor": 5
}
