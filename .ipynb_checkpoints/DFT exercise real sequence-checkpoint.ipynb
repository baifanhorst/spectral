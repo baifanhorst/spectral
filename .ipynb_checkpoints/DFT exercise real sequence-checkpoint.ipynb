{
 "cells": [
  {
   "cell_type": "code",
   "execution_count": 15,
   "id": "15305b9b",
   "metadata": {},
   "outputs": [],
   "source": [
    "import numpy as np\n",
    "import matplotlib.pyplot as plt\n",
    "import pandas as pd\n",
    "from scipy.fft import fft, ifft"
   ]
  },
  {
   "cell_type": "code",
   "execution_count": 22,
   "id": "1c280bac",
   "metadata": {},
   "outputs": [],
   "source": [
    "def DFT_2RealSeq(x,y):\n",
    "    # Perform DFT for two real sequences simulateously\n",
    "    # k values of the return: k = 0,1,...,N-1\n",
    "    \n",
    "    # Lengths\n",
    "    Nx = len(x)\n",
    "    Ny = len(y)\n",
    "    \n",
    "    if Nx != Ny:\n",
    "        print('Lengths of the sequences are not equal')\n",
    "        return\n",
    "    \n",
    "    N = Nx\n",
    "    \n",
    "    # Construct a complex sequence z = x + iy\n",
    "    z = x + 1j * y\n",
    "    \n",
    "    # FFT on z\n",
    "    # Note that in scipy, the factor 1/N is not here\n",
    "    Z = fft(z)\n",
    "    \n",
    "    # Extract Fourier coefficients for x and y\n",
    "    Z_ = np.concatenate((Z, Z[:1]))\n",
    "    X_ = (Z_ + np.conjugate(Z_[::-1])) / 2 / N\n",
    "    Y_ = (Z_ - np.conjugate(Z_[::-1])) / 2 / N / 1j\n",
    "    \n",
    "    return X_[:-1], Y_[:-1]"
   ]
  },
  {
   "cell_type": "code",
   "execution_count": 34,
   "id": "106f08da",
   "metadata": {},
   "outputs": [],
   "source": [
    "def DFT_inv_2RealSeq(X,Y):\n",
    "    # Perform inverse DFT for two sets of Fourier coefficients of real sequences\n",
    "    # The input vectors are Fourier sums divided by N\n",
    "\n",
    "    # Lengths\n",
    "    NX = len(X)\n",
    "    NY = len(Y)\n",
    "    \n",
    "    if NX != NY:\n",
    "        print('Lengths of the sequences are not equal')\n",
    "        return\n",
    "    \n",
    "    N = NX\n",
    "    \n",
    "    Z = (X + 1j * Y) * N\n",
    "    \n",
    "    z = ifft(Z)\n",
    "    \n",
    "    return np.real(z), np.imag(z)\n",
    "    "
   ]
  },
  {
   "cell_type": "code",
   "execution_count": 33,
   "id": "7bd6eec8",
   "metadata": {
    "scrolled": false
   },
   "outputs": [
    {
     "name": "stdout",
     "output_type": "stream",
     "text": [
      "DFT X simultaneous transform\n",
      " [ 2.5+0.j  -0.5+0.5j -0.5+0.j  -0.5-0.5j]\n",
      "DFT X \n",
      " [ 2.5-0.j  -0.5+0.5j -0.5+0.j  -0.5-0.5j]\n",
      "DFT Y simultaneous transform\n",
      " [ 6.5+0.j  -0.5+0.5j -0.5-0.j  -0.5-0.5j]\n",
      "DFT Y \n",
      " [ 6.5-0.j  -0.5+0.5j -0.5+0.j  -0.5-0.5j]\n"
     ]
    }
   ],
   "source": [
    "x = np.array([1,2,3,4])\n",
    "y = np.array([5,6,7,8])\n",
    "X_simul, Y_simul = DFT_2RealSeq(x,y)\n",
    "X_single = fft(x) / len(x)\n",
    "Y_single = fft(y) / len(y)\n",
    "\n",
    "print(\"DFT X simultaneous transform\\n\", X_simul)\n",
    "print(\"DFT X \\n\", X_single)\n",
    "print(\"DFT Y simultaneous transform\\n\", Y_simul)\n",
    "print(\"DFT Y \\n\", Y_single)"
   ]
  },
  {
   "cell_type": "code",
   "execution_count": 35,
   "id": "e2ef7c56",
   "metadata": {},
   "outputs": [
    {
     "name": "stdout",
     "output_type": "stream",
     "text": [
      "x simultaneous iDFT\n",
      " [1. 2. 3. 4.]\n",
      "y simultaneous iDFT\n",
      " [5. 6. 7. 8.]\n"
     ]
    }
   ],
   "source": [
    "x_iDFT_simul, y_iDFT_simul = DFT_inv_2RealSeq(X_simul, Y_simul)\n",
    "x_iDFT_single = ifft(X_single * len(x))\n",
    "y_iDFT_single = ifft(Y_single * len(y))\n",
    "\n",
    "print(\"x simultaneous iDFT\\n\", x_iDFT_simul)\n",
    "print(\"x iDFT\\n\", x_iDFT_simul)\n",
    "print(\"y simultaneous iDFT\\n\", y_iDFT_simul)\n",
    "print(\"y iDFT\\n\", y_iDFT_simul)"
   ]
  }
 ],
 "metadata": {
  "kernelspec": {
   "display_name": "Python 3 (ipykernel)",
   "language": "python",
   "name": "python3"
  },
  "language_info": {
   "codemirror_mode": {
    "name": "ipython",
    "version": 3
   },
   "file_extension": ".py",
   "mimetype": "text/x-python",
   "name": "python",
   "nbconvert_exporter": "python",
   "pygments_lexer": "ipython3",
   "version": "3.9.13"
  }
 },
 "nbformat": 4,
 "nbformat_minor": 5
}
