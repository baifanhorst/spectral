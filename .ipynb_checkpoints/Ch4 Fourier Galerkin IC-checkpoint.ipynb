{
 "cells": [
  {
   "cell_type": "code",
   "execution_count": 32,
   "id": "b6b956a0",
   "metadata": {},
   "outputs": [],
   "source": [
    "import numpy as np\n",
    "import matplotlib.pyplot as plt\n",
    "from scipy.integrate import solve_ivp\n",
    "from scipy.fft import fft, ifft, fftshift, ifftshift\n",
    "\n",
    "\n",
    "import FourierGalerkin\n",
    "# Reloading the module\n",
    "import importlib\n",
    "importlib.reload(FourierGalerkin)\n",
    "from FourierGalerkin import *"
   ]
  },
  {
   "cell_type": "code",
   "execution_count": 33,
   "id": "a95f9e0f",
   "metadata": {},
   "outputs": [],
   "source": [
    "def func_init(x):\n",
    "    return 3 / (5 - 4 * np.cos(x))"
   ]
  },
  {
   "cell_type": "code",
   "execution_count": 34,
   "id": "39e17901",
   "metadata": {
    "scrolled": true
   },
   "outputs": [
    {
     "name": "stdout",
     "output_type": "stream",
     "text": [
      "coeff_init_quad\n",
      " [0.03125+0.j 0.0625 +0.j 0.125  +0.j 0.25   +0.j 0.5    +0.j 1.     +0.j\n",
      " 0.5    +0.j 0.25   +0.j 0.125  +0.j 0.0625 +0.j 0.03125+0.j]\n",
      "coeff_init_fft\n",
      " [0.03128055-0.00000000e+00j 0.07820137+1.08676365e-18j\n",
      " 0.13294233+1.19285636e-17j 0.25415445+3.80314725e-17j\n",
      " 0.50244379+4.33221573e-17j 1.00195503-0.00000000e+00j\n",
      " 0.50244379-4.33221573e-17j 0.25415445-3.80314725e-17j\n",
      " 0.13294233-1.19285636e-17j 0.07820137-1.08676365e-18j\n",
      " 0.03128055-0.00000000e+00j]\n"
     ]
    }
   ],
   "source": [
    "# In the book, the coefficients of the truncated series are used as IC\n",
    "# They have an analytic formula: f^_k = 2^{-abs(k)}\n",
    "# The result by integration agrees well with the formula\n",
    "# As a comparison, the coefficients of the Fourier interpolating polynomial\n",
    "# are calculated.\n",
    "# The result shows that these two sets of coefficients are not the same.\n",
    "\n",
    "N=10\n",
    "coeff_init_quad = CalcInitCond(func_init, N)\n",
    "print('coeff_init_quad\\n', coeff_init_quad)\n",
    "coeff_init_DFT = CalcInitCond_DFT(func_init, N)\n",
    "print(\"coeff_init_fft\\n\", coeff_init_fft)"
   ]
  },
  {
   "cell_type": "code",
   "execution_count": null,
   "id": "3252aa44",
   "metadata": {},
   "outputs": [],
   "source": []
  }
 ],
 "metadata": {
  "kernelspec": {
   "display_name": "Python 3 (ipykernel)",
   "language": "python",
   "name": "python3"
  },
  "language_info": {
   "codemirror_mode": {
    "name": "ipython",
    "version": 3
   },
   "file_extension": ".py",
   "mimetype": "text/x-python",
   "name": "python",
   "nbconvert_exporter": "python",
   "pygments_lexer": "ipython3",
   "version": "3.9.13"
  }
 },
 "nbformat": 4,
 "nbformat_minor": 5
}
