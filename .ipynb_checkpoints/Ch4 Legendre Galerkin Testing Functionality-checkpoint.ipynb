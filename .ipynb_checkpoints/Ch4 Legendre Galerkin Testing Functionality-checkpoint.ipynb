{
 "cells": [
  {
   "cell_type": "code",
   "execution_count": 13,
   "id": "65efc7d6",
   "metadata": {},
   "outputs": [],
   "source": [
    "import numpy as np\n",
    "import matplotlib.pyplot as plt\n",
    "from scipy.integrate import solve_ivp\n",
    "from scipy import linalg\n",
    "from numpy.linalg import inv\n",
    "\n",
    "\n",
    "# Reloading the module\n",
    "import importlib\n",
    "\n",
    "import OrthogonalPolynomials\n",
    "importlib.reload(OrthogonalPolynomials)\n",
    "from OrthogonalPolynomials import *\n",
    "\n",
    "import GeneralFunctionality\n",
    "importlib.reload(GeneralFunctionality)\n",
    "from GeneralFunctionality import *"
   ]
  },
  {
   "cell_type": "code",
   "execution_count": 14,
   "id": "d41c4a78",
   "metadata": {
    "scrolled": false
   },
   "outputs": [
    {
     "name": "stdout",
     "output_type": "stream",
     "text": [
      "Solution mine\n",
      " [0.04735994 0.23861346 0.28234583 0.26400645 0.44719871]\n",
      "Solution linalg.solve\n",
      " [0.04735994 0.23861346 0.28234583 0.26400645 0.44719871]\n",
      "Solution numpy.linalg.inv\n",
      " [0.04735994 0.23861346 0.28234583 0.26400645 0.44719871]\n"
     ]
    }
   ],
   "source": [
    "# Testing the tridiagonal solver\n",
    "def CreateTridiagonal():\n",
    "    N = 4\n",
    "    d = np.array([6,7,8,9,10], dtype=np.double)\n",
    "    l = np.array([0,1,2,1,2], dtype=np.double)\n",
    "    u = np.array([3,1,1,3,0], dtype=np.double)\n",
    "    y = np.array([1,2,3,4,5], dtype=np.double)\n",
    "    A = np.zeros((N+1, N+1), dtype=np.double)\n",
    "    \n",
    "    for i in range(N+1):\n",
    "        A[i,i] = d[i]\n",
    "    for i in range(1,N+1):\n",
    "        A[i,i-1] = l[i]\n",
    "    for i in range(N):\n",
    "        A[i,i+1] = u[i]\n",
    "        \n",
    "    \n",
    "    return N, d, l, u, y, A\n",
    "\n",
    "\n",
    "\n",
    "N, d, l, u, y, A = CreateTridiagonal()\n",
    "x = TridiagonalSolver(N, d, l, u, y)\n",
    "print(\"Solution mine\\n\", x)\n",
    "\n",
    "# scipy\n",
    "N, d, l, u, y, A = CreateTridiagonal()\n",
    "x = linalg.solve(A, y)\n",
    "print(\"Solution linalg.solve\\n\", x)\n",
    "\n",
    "# numpy inverse matrix\n",
    "x = np.dot(inv(A),y)\n",
    "print(\"Solution numpy.linalg.inv\\n\", x)\n"
   ]
  },
  {
   "cell_type": "code",
   "execution_count": 15,
   "id": "07624a4c",
   "metadata": {},
   "outputs": [
    {
     "name": "stdout",
     "output_type": "stream",
     "text": [
      "np.dot(A, x) [45. 54. 26. 46. 38.]\n"
     ]
    },
    {
     "ename": "TypeError",
     "evalue": "TridiagonalMultiplication() takes 4 positional arguments but 5 were given",
     "output_type": "error",
     "traceback": [
      "\u001b[1;31m---------------------------------------------------------------------------\u001b[0m",
      "\u001b[1;31mTypeError\u001b[0m                                 Traceback (most recent call last)",
      "\u001b[1;32m~\\AppData\\Local\\Temp\\ipykernel_20128\\1426776191.py\u001b[0m in \u001b[0;36m<module>\u001b[1;34m\u001b[0m\n\u001b[0;32m      1\u001b[0m \u001b[0mx\u001b[0m \u001b[1;33m=\u001b[0m \u001b[0mnp\u001b[0m\u001b[1;33m.\u001b[0m\u001b[0marray\u001b[0m\u001b[1;33m(\u001b[0m\u001b[1;33m[\u001b[0m\u001b[1;36m4\u001b[0m\u001b[1;33m,\u001b[0m\u001b[1;36m7\u001b[0m\u001b[1;33m,\u001b[0m\u001b[1;36m1\u001b[0m\u001b[1;33m,\u001b[0m\u001b[1;36m4\u001b[0m\u001b[1;33m,\u001b[0m\u001b[1;36m3\u001b[0m\u001b[1;33m]\u001b[0m\u001b[1;33m)\u001b[0m\u001b[1;33m\u001b[0m\u001b[1;33m\u001b[0m\u001b[0m\n\u001b[0;32m      2\u001b[0m \u001b[0mprint\u001b[0m\u001b[1;33m(\u001b[0m\u001b[1;34m\"np.dot(A, x)\"\u001b[0m\u001b[1;33m,\u001b[0m \u001b[0mnp\u001b[0m\u001b[1;33m.\u001b[0m\u001b[0mdot\u001b[0m\u001b[1;33m(\u001b[0m\u001b[0mA\u001b[0m\u001b[1;33m,\u001b[0m \u001b[0mx\u001b[0m\u001b[1;33m)\u001b[0m\u001b[1;33m)\u001b[0m\u001b[1;33m\u001b[0m\u001b[1;33m\u001b[0m\u001b[0m\n\u001b[1;32m----> 3\u001b[1;33m \u001b[0mprint\u001b[0m\u001b[1;33m(\u001b[0m\u001b[1;34m\"TridiagonalMultiplication\"\u001b[0m\u001b[1;33m,\u001b[0m \u001b[0mTridiagonalMultiplication\u001b[0m\u001b[1;33m(\u001b[0m\u001b[1;36m4\u001b[0m\u001b[1;33m,\u001b[0m\u001b[0md\u001b[0m\u001b[1;33m,\u001b[0m\u001b[0ml\u001b[0m\u001b[1;33m,\u001b[0m\u001b[0mu\u001b[0m\u001b[1;33m,\u001b[0m\u001b[0mx\u001b[0m\u001b[1;33m)\u001b[0m\u001b[1;33m)\u001b[0m\u001b[1;33m\u001b[0m\u001b[1;33m\u001b[0m\u001b[0m\n\u001b[0m",
      "\u001b[1;31mTypeError\u001b[0m: TridiagonalMultiplication() takes 4 positional arguments but 5 were given"
     ]
    }
   ],
   "source": [
    "x = np.array([4,7,1,4,3])\n",
    "print(\"np.dot(A, x)\", np.dot(A, x))\n",
    "print(\"TridiagonalMultiplication\", TridiagonalMultiplication(d,l,u,x))"
   ]
  }
 ],
 "metadata": {
  "kernelspec": {
   "display_name": "Python 3 (ipykernel)",
   "language": "python",
   "name": "python3"
  },
  "language_info": {
   "codemirror_mode": {
    "name": "ipython",
    "version": 3
   },
   "file_extension": ".py",
   "mimetype": "text/x-python",
   "name": "python",
   "nbconvert_exporter": "python",
   "pygments_lexer": "ipython3",
   "version": "3.9.13"
  }
 },
 "nbformat": 4,
 "nbformat_minor": 5
}
