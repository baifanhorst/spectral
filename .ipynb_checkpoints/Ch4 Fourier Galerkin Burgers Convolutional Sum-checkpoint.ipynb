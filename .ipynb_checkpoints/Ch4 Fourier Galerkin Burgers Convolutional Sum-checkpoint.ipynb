{
 "cells": [
  {
   "cell_type": "code",
   "execution_count": 8,
   "id": "526220f4",
   "metadata": {},
   "outputs": [],
   "source": [
    "import numpy as np\n",
    "import matplotlib.pyplot as plt\n",
    "from scipy.integrate import solve_ivp\n",
    "\n",
    "import FourierGalerkin_Burgers\n",
    "# Reloading the module\n",
    "import importlib\n",
    "importlib.reload(FourierGalerkin_Burgers)\n",
    "from FourierGalerkin_Burgers import *"
   ]
  },
  {
   "cell_type": "code",
   "execution_count": 13,
   "id": "5a0e4315",
   "metadata": {
    "scrolled": true
   },
   "outputs": [],
   "source": [
    "# Testing Direct convolutional sum\n",
    "N = 20\n",
    "V = np.arange(2, 2+N+1)\n",
    "W = np.arange(3, 3+N+1)"
   ]
  },
  {
   "cell_type": "code",
   "execution_count": 14,
   "id": "0ac4ab18",
   "metadata": {
    "scrolled": true
   },
   "outputs": [
    {
     "name": "stdout",
     "output_type": "stream",
     "text": [
      "Conv Sum of VW\n",
      " [2716. 2723. 2682. 2592. 2452. 2261. 2018. 1722. 1372.  967.  506. 3085.\n",
      " 3010. 2931. 2849. 2765. 2680. 2595. 2511. 2429. 2350.]\n",
      "Conv Sum of WV\n",
      " [2716. 2723. 2682. 2592. 2452. 2261. 2018. 1722. 1372.  967.  506. 3085.\n",
      " 3010. 2931. 2849. 2765. 2680. 2595. 2511. 2429. 2350.]\n"
     ]
    }
   ],
   "source": [
    "print('Conv Sum of VW\\n', CalConvSum_Direct(V,W))\n",
    "print('Conv Sum of WV\\n', CalConvSum_Direct(W,V))"
   ]
  },
  {
   "cell_type": "code",
   "execution_count": null,
   "id": "d2c2b0c7",
   "metadata": {},
   "outputs": [],
   "source": [
    "# N must be even\n",
    "\n",
    "N2 = N//2\n",
    "M = 3 * N2 + 1 # M>3N/2\n",
    "# M must be even\n",
    "if M%2!=0:\n",
    "    M += 1\n",
    "M2 = M//2    \n",
    "        \n",
    "        \n",
    "V_ext = np.concatenate((np.zeros(M2-N2), V, np.zeros(M2-N2-1)))\n",
    "W_ext = np.concatenate((np.zeros(M2-N2), W, np.zeros(M2-N2-1)))"
   ]
  }
 ],
 "metadata": {
  "kernelspec": {
   "display_name": "Python 3 (ipykernel)",
   "language": "python",
   "name": "python3"
  },
  "language_info": {
   "codemirror_mode": {
    "name": "ipython",
    "version": 3
   },
   "file_extension": ".py",
   "mimetype": "text/x-python",
   "name": "python",
   "nbconvert_exporter": "python",
   "pygments_lexer": "ipython3",
   "version": "3.9.13"
  }
 },
 "nbformat": 4,
 "nbformat_minor": 5
}
