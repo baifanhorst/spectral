{
 "cells": [
  {
   "cell_type": "code",
   "execution_count": 2,
   "id": "70eb2948",
   "metadata": {},
   "outputs": [],
   "source": [
    "import numpy as np\n",
    "import matplotlib.pyplot as plt"
   ]
  },
  {
   "cell_type": "code",
   "execution_count": 3,
   "id": "083fe29e",
   "metadata": {},
   "outputs": [],
   "source": [
    "def CalcBaryWeights(x):\n",
    "    # Calculating Barycentric Weights\n",
    "    # x: xj, j=0,1,...,N\n",
    "    \n",
    "    N = len(x) - 1\n",
    "    \n",
    "    w = np.ones(N+1)\n",
    "    \n",
    "    for j in range(N+1):\n",
    "        for i in range(N+1):\n",
    "            if i != j:\n",
    "                w[j] *= (x[j] - x[i])\n",
    "    \n",
    "    w = 1 / w\n",
    "    return w"
   ]
  },
  {
   "cell_type": "code",
   "execution_count": 4,
   "id": "6ba94e86",
   "metadata": {},
   "outputs": [],
   "source": [
    "def EvalLagInterpBary(x, x_nodes, f, w):\n",
    "    # Evaluating the Lagrange interpolant at x\n",
    "    # x_nodes: xj, j=0,1,...,N, interpolating nodes\n",
    "    # Function values at the nodes\n",
    "    # w: wj, j=0,1,...,N, interpolating weights\n",
    "    \n",
    "    N = len(x_nodes) - 1\n",
    "    \n",
    "    # If x is equal to one of the nodes, return the function value at the nodes\n",
    "    for j in range(N+1):\n",
    "        if AlmostEqual(x, x_nodes[j]):\n",
    "            return f[j]\n",
    "    \n",
    "    factors = w / (x-x_nodes)\n",
    "    return np.sum(f * factors) / np.sum(factors)"
   ]
  },
  {
   "cell_type": "code",
   "execution_count": 5,
   "id": "92d3b937",
   "metadata": {},
   "outputs": [],
   "source": [
    "def AlmostEqual(x,y):\n",
    "    # Test whether two float numbers are close enough\n",
    "    \n",
    "    # Machine epsilon\n",
    "    eps = np.finfo(np.double).eps\n",
    "    # Absolute difference\n",
    "    dif_abs = np.abs(x-y)\n",
    "    \n",
    "    if x==0.0 or y==0.0:\n",
    "        if dif_abs <= 2*eps:\n",
    "            return True\n",
    "        else:\n",
    "            return False\n",
    "    else:\n",
    "        if dif_abs<=eps * np.abs(x) or dif_abs<=eps * np.abs(y):\n",
    "            return True\n",
    "        else:\n",
    "            return False"
   ]
  },
  {
   "cell_type": "code",
   "execution_count": 6,
   "id": "054fc8f4",
   "metadata": {},
   "outputs": [],
   "source": [
    "def EvalLagInterpDefBary(x, x_nodes, f, w):\n",
    "    # Evaluating the Lagrange interpolant derivative at x\n",
    "    # x_nodes: xj, j=0,1,...,N, interpolating nodes\n",
    "    # Function values at the nodes\n",
    "    # w: wj, j=0,1,...,N, interpolating weights\n",
    "    N = len(x_nodes) - 1\n",
    "    \n",
    "    # If x is equal to one of the nodes, return the function value at the nodes\n",
    "    for i in range(N+1):\n",
    "        if AlmostEqual(x, x_nodes[i]):\n",
    "            result = 0\n",
    "            for j in range(N+1):\n",
    "                if j!= i:\n",
    "                    result += (f[i]-f[j]) / (x_nodes[i]-x_nodes[j]) * w[j]\n",
    "            return -result/w[i]\n",
    "    \n",
    "    p = EvalLagInterpBary(x, x_nodes, f, w)\n",
    "    factors = w / (x-x_nodes)\n",
    "    numerator = np.sum((p-f)*factors/(x-x_nodes))\n",
    "    denominator = np.sum(factors)\n",
    "    return numerator/denominator"
   ]
  },
  {
   "cell_type": "code",
   "execution_count": 9,
   "id": "7c0860b9",
   "metadata": {},
   "outputs": [],
   "source": [
    "def test_func(x_nodes):\n",
    "    return np.cos(x_nodes)\n",
    "def test_func_deri(x_nodes):\n",
    "    return -np.sin(x_nodes)"
   ]
  },
  {
   "cell_type": "code",
   "execution_count": 10,
   "id": "efde3796",
   "metadata": {
    "scrolled": true
   },
   "outputs": [
    {
     "name": "stdout",
     "output_type": "stream",
     "text": [
      "fx 0.8775825618903728\n",
      "fx_interp 0.8775825618903726\n"
     ]
    }
   ],
   "source": [
    "N = 20\n",
    "J = np.arange(0, N+1)\n",
    "theta_nodes = np.pi/N * J \n",
    "x_nodes = np.cos(theta_nodes)\n",
    "f = test_func(x_nodes)\n",
    "w = CalcBaryWeights(x_nodes)\n",
    "x = 0.5\n",
    "fx = test_func(x)\n",
    "fx_interp = EvalLagInterpBary(x, x_nodes, f, w)\n",
    "print('fx', fx)\n",
    "print('fx_interp', fx_interp)"
   ]
  },
  {
   "cell_type": "code",
   "execution_count": 26,
   "id": "f470f91f",
   "metadata": {},
   "outputs": [
    {
     "name": "stdout",
     "output_type": "stream",
     "text": [
      "f_deri -0.7833269096274834\n",
      "f_deri_interp -0.7833269096274913\n"
     ]
    }
   ],
   "source": [
    "x = 0.9\n",
    "f_deri = test_func_deri(x)\n",
    "f_deri_interp = EvalLagInterpDefBary(x, x_nodes, f, w)\n",
    "print('f_deri', f_deri)\n",
    "print('f_deri_interp', f_deri_interp)"
   ]
  }
 ],
 "metadata": {
  "kernelspec": {
   "display_name": "Python 3 (ipykernel)",
   "language": "python",
   "name": "python3"
  },
  "language_info": {
   "codemirror_mode": {
    "name": "ipython",
    "version": 3
   },
   "file_extension": ".py",
   "mimetype": "text/x-python",
   "name": "python",
   "nbconvert_exporter": "python",
   "pygments_lexer": "ipython3",
   "version": "3.9.13"
  }
 },
 "nbformat": 4,
 "nbformat_minor": 5
}
