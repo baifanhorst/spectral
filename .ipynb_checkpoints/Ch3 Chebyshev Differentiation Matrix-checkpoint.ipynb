{
 "cells": [
  {
   "cell_type": "code",
   "execution_count": 1,
   "id": "5aa949d1",
   "metadata": {},
   "outputs": [],
   "source": [
    "import numpy as np\n",
    "import matplotlib.pyplot as plt"
   ]
  },
  {
   "cell_type": "code",
   "execution_count": null,
   "id": "50a097c5",
   "metadata": {},
   "outputs": [],
   "source": [
    "def CalcChebDiffMat(x):\n",
    "    # Calculating the Chebyshev Differentiation Matrix\n",
    "    # x: nodes, xj: j =0,1,...,N\n",
    "    \n",
    "    N = len(x) - 1\n",
    "    \n",
    "    # c: auxiliary constants: c0=cN=2, cj=1 for j=1,...,N-1\n",
    "    c = np.ones(N)\n",
    "    c[0] = 2\n",
    "    c[N] = 2\n",
    "    \n",
    "    # Initialize the matrix\n",
    "    D = np.zeros((N+1, N+1))\n",
    "    # Calculating off-diagonal entries\n",
    "    for i in range(N+1):\n",
    "        for j in range(N+1):\n",
    "            if i!=j:\n",
    "                D[i,j] = c[i]/c[j] * (-1)**(i+j) / (x[i] - x[j])\n",
    "    # Diagonal entries, negative sum trick\n",
    "    for i in range(N+1):\n",
    "        D[i,i] = -np.sum(D[i,:])\n",
    "    \n",
    "    return D"
   ]
  }
 ],
 "metadata": {
  "kernelspec": {
   "display_name": "Python 3 (ipykernel)",
   "language": "python",
   "name": "python3"
  },
  "language_info": {
   "codemirror_mode": {
    "name": "ipython",
    "version": 3
   },
   "file_extension": ".py",
   "mimetype": "text/x-python",
   "name": "python",
   "nbconvert_exporter": "python",
   "pygments_lexer": "ipython3",
   "version": "3.9.13"
  }
 },
 "nbformat": 4,
 "nbformat_minor": 5
}
