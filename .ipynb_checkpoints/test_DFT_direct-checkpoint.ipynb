{
 "cells": [
  {
   "cell_type": "code",
   "execution_count": 51,
   "id": "e506f360",
   "metadata": {},
   "outputs": [
    {
     "data": {
      "text/plain": [
       "<module 'my_DFT' from 'C:\\\\Users\\\\bai_f\\\\Documents\\\\Timken\\\\research\\\\spectral2\\\\my_DFT.py'>"
      ]
     },
     "execution_count": 51,
     "metadata": {},
     "output_type": "execute_result"
    }
   ],
   "source": [
    "import numpy as np\n",
    "import matplotlib.pyplot as plt\n",
    "import pandas as pd\n",
    "\n",
    "from scipy.fft import fft, ifft\n",
    "\n",
    "import my_DFT\n",
    "\n",
    "# This helps reload the 'my_DFT' module. By default, this is not done.\n",
    "import importlib\n",
    "importlib.reload(my_DFT)"
   ]
  },
  {
   "cell_type": "code",
   "execution_count": 52,
   "id": "629754f7",
   "metadata": {},
   "outputs": [
    {
     "name": "stdout",
     "output_type": "stream",
     "text": [
      "My FFT result:\n",
      " [21.+0.00000000e+00j -3.+5.19615242e+00j -3.+1.73205081e+00j\n",
      " -3.-1.28625053e-14j -3.-1.73205081e+00j -3.-5.19615242e+00j]\n",
      "Scipy FFT result:\n",
      " [21.-0.j         -3.+5.19615242j -3.+1.73205081j -3.-0.j\n",
      " -3.-1.73205081j -3.-5.19615242j]\n"
     ]
    }
   ],
   "source": [
    "f = np.array([1,2,3,4,5,6])\n",
    "N = len(f)\n",
    "F_my = my_DFT.DFT_direct(f, 1)\n",
    "F_scipy = fft(f)\n",
    "print(\"My FFT result:\\n\", F_my)\n",
    "print(\"Scipy FFT result:\\n\", F_scipy)"
   ]
  },
  {
   "cell_type": "code",
   "execution_count": 53,
   "id": "97a15a09",
   "metadata": {
    "scrolled": true
   },
   "outputs": [
    {
     "name": "stdout",
     "output_type": "stream",
     "text": [
      "My Inv FFT (without dividing N):\n",
      " [ 6.-3.90798505e-14j 12.-9.32587341e-15j 18.-7.10542736e-15j\n",
      " 24.-8.88178420e-15j 30.-1.06581410e-14j 36.+3.19744231e-14j]\n",
      "My Inv FFT:\n",
      " [1.-6.51330841e-15j 2.-1.55431223e-15j 3.-1.18423789e-15j\n",
      " 4.-1.48029737e-15j 5.-1.77635684e-15j 6.+5.32907052e-15j]\n",
      "Scipy Inv FFT:\n",
      " [1.+0.j 2.+0.j 3.+0.j 4.+0.j 5.-0.j 6.+0.j]\n"
     ]
    }
   ],
   "source": [
    "f_my = my_DFT.DFT_direct(F_my, -1)\n",
    "f_scipy = ifft(F_scipy)\n",
    "print('My Inv FFT (without dividing N):\\n', f_my)\n",
    "print('My Inv FFT:\\n', f_my/N)\n",
    "print('Scipy Inv FFT:\\n', f_scipy)"
   ]
  },
  {
   "cell_type": "code",
   "execution_count": 54,
   "id": "af8163ca",
   "metadata": {
    "scrolled": true
   },
   "outputs": [],
   "source": [
    "# Rearrange\n",
    "f_correct = np.concatenate((F_scipy[-N//2:], F_scipy[:N//2])) / N"
   ]
  },
  {
   "cell_type": "code",
   "execution_count": 56,
   "id": "96ce5c1c",
   "metadata": {},
   "outputs": [],
   "source": [
    "F_correct = my_DFT.DFT_direct(f_correct, -1)"
   ]
  }
 ],
 "metadata": {
  "kernelspec": {
   "display_name": "Python 3 (ipykernel)",
   "language": "python",
   "name": "python3"
  },
  "language_info": {
   "codemirror_mode": {
    "name": "ipython",
    "version": 3
   },
   "file_extension": ".py",
   "mimetype": "text/x-python",
   "name": "python",
   "nbconvert_exporter": "python",
   "pygments_lexer": "ipython3",
   "version": "3.9.13"
  }
 },
 "nbformat": 4,
 "nbformat_minor": 5
}
